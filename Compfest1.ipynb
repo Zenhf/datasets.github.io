{
 "cells": [
  {
   "cell_type": "markdown",
   "metadata": {},
   "source": [
    "# Dataset\n",
    "Dataset merupakan data mobil bekas yang terdapat di India dan diperoleh dari kaggle yang sedikit dimodifikasi. Dataset dapat diunduh melalui bit.ly/seleksiDSA. Terdapat 6019 baris dan 12 kolom dalam dataset tersebut. Kolom yang terdapat pada dataset meliputi :\n",
    "-\tName – Nama merek dan model mobil.\n",
    "-\tLocation – Lokasi mobil dijual.\n",
    "-\tYear – Tahun edisi mobil.\n",
    "-\tKilometers_Driven – Total jarak pemakaian mobil oleh pengguna sebelumnya dalam satuan kilometer.\n",
    "-\tFuel_Type – Tipe bahan bakar yang digunakan mobil.\n",
    "-\tTransmission – Tipe transmisi yang digunakan mobil.\n",
    "-\tOwner_Type – Jenis kepemilikan mobil.\n",
    "-\tMileage – Tingkat konsumsi bahan bakar dalam satuan kmpl atau km/kg.\n",
    "-\tEngine – Kapasitas mesin mobil dalam satuan CC.\n",
    "-\tPower – Total tenaga pada mobil dalam bhp.\n",
    "-\tSeats – Jumlah kursi pada mobil.\n",
    "-\tPrice – Harga mobil bekas dalam satuan INR Lakhs (Indian Rupee).\n",
    "\n",
    "# Tugas dan Langkah\n",
    "Pada dataset ini, saya ditugaskan untuk mencari informasi penting dari dari dataset yang diberikan. Setelah ditelaah lebih lanjut, akan dilanjutkan dengan menganalisis komponen dalam data yang memiliki hubungan untuk mendapatkan insight lebih dalam.\n",
    "\n",
    "# Library yang Digunakan\n",
    "###### Pandas\n",
    "Pandas (Python for Data Analysis) adalah library Python yang fokus untuk proses analisis data seperti manipulasi data, persiapan data, dan pembersihan data.\n",
    "###### Matplotlib\n",
    "Matplotlib adalah library Python yang fokus pada visualisasi data seperti membuat plot grafik. Matplotlib dapat digunakan dalam skrip Python, Python dan IPython shell, server aplikasi web, dan beberapa toolkit graphical user interface (GUI) lainnya.\n",
    "###### Seaborn\n",
    "Seaborn membangun di atas Matplotlib dan memperkenalkan tipe plot tambahan. Ini juga membuat plot Matplotlib tradisional Anda terlihat sedikit lebih cantik.\n",
    "###### Scikit-Learn\n",
    "Scikit-learn adalah library dalam Python yang menyediakan banyak algoritma Machine Learning baik untuk Supervised, Unsupervised Learning, maupun digunakan untuk mempreparasi data.\n",
    "###### Re\n",
    "Modul python yang berkaitan dengan regular expression.\n",
    "###### Scipy\n",
    "Scipy (Scientific Python) merupakan koleksi dari algoritma matematika untuk menangani operasi aljabar, matriks, operasi matematika lainnya.\n",
    "###### Statsmodels\n",
    "Statsmodels adalah modul python yang menyediakan kelas dan fungsi untuk mengestimasi berbagai model statistik, serta untuk melakukan uji statistik, dan eksplorasi data statistik."
   ]
  },
  {
   "cell_type": "markdown",
   "metadata": {},
   "source": [
    "# A. Import Library dan Dataset"
   ]
  },
  {
   "cell_type": "code",
   "execution_count": 1,
   "metadata": {},
   "outputs": [],
   "source": [
    "import pandas as pd\n",
    "import matplotlib.pyplot as plt\n",
    "import seaborn as sns\n",
    "import re\n",
    "from sklearn import preprocessing\n",
    "from sklearn.model_selection import train_test_split\n",
    "from sklearn.linear_model import LinearRegression\n",
    "from scipy.stats import zscore\n",
    "from statsmodels.graphics.gofplots import qqplot\n",
    "import statsmodels.api as sma\n",
    "import sklearn.metrics as sm"
   ]
  },
  {
   "cell_type": "code",
   "execution_count": 2,
   "metadata": {},
   "outputs": [
    {
     "data": {
      "text/html": [
       "<div>\n",
       "<style scoped>\n",
       "    .dataframe tbody tr th:only-of-type {\n",
       "        vertical-align: middle;\n",
       "    }\n",
       "\n",
       "    .dataframe tbody tr th {\n",
       "        vertical-align: top;\n",
       "    }\n",
       "\n",
       "    .dataframe thead th {\n",
       "        text-align: right;\n",
       "    }\n",
       "</style>\n",
       "<table border=\"1\" class=\"dataframe\">\n",
       "  <thead>\n",
       "    <tr style=\"text-align: right;\">\n",
       "      <th></th>\n",
       "      <th>Name</th>\n",
       "      <th>Location</th>\n",
       "      <th>Year</th>\n",
       "      <th>Kilometers_Driven</th>\n",
       "      <th>Fuel_Type</th>\n",
       "      <th>Transmission</th>\n",
       "      <th>Owner_Type</th>\n",
       "      <th>Mileage</th>\n",
       "      <th>Engine</th>\n",
       "      <th>Power</th>\n",
       "      <th>Seats</th>\n",
       "      <th>Price</th>\n",
       "    </tr>\n",
       "  </thead>\n",
       "  <tbody>\n",
       "    <tr>\n",
       "      <th>0</th>\n",
       "      <td>Maruti Wagon R LXI CNG</td>\n",
       "      <td>Mumbai</td>\n",
       "      <td>2010</td>\n",
       "      <td>72000</td>\n",
       "      <td>CNG</td>\n",
       "      <td>Manual</td>\n",
       "      <td>First</td>\n",
       "      <td>26.6 km/kg</td>\n",
       "      <td>998 CC</td>\n",
       "      <td>58.16 bhp</td>\n",
       "      <td>5.0</td>\n",
       "      <td>1.75</td>\n",
       "    </tr>\n",
       "    <tr>\n",
       "      <th>1</th>\n",
       "      <td>Hyundai Creta 1.6 CRDi SX Option</td>\n",
       "      <td>Pune</td>\n",
       "      <td>2015</td>\n",
       "      <td>41000</td>\n",
       "      <td>Diesel</td>\n",
       "      <td>Manual</td>\n",
       "      <td>First</td>\n",
       "      <td>19.67 kmpl</td>\n",
       "      <td>1582 CC</td>\n",
       "      <td>126.2 bhp</td>\n",
       "      <td>5.0</td>\n",
       "      <td>12.50</td>\n",
       "    </tr>\n",
       "    <tr>\n",
       "      <th>2</th>\n",
       "      <td>Honda Jazz V</td>\n",
       "      <td>Chennai</td>\n",
       "      <td>2011</td>\n",
       "      <td>46000</td>\n",
       "      <td>Petrol</td>\n",
       "      <td>Manual</td>\n",
       "      <td>First</td>\n",
       "      <td>18.2 kmpl</td>\n",
       "      <td>1199 CC</td>\n",
       "      <td>88.7 bhp</td>\n",
       "      <td>5.0</td>\n",
       "      <td>4.50</td>\n",
       "    </tr>\n",
       "    <tr>\n",
       "      <th>3</th>\n",
       "      <td>Maruti Ertiga VDI</td>\n",
       "      <td>Chennai</td>\n",
       "      <td>2012</td>\n",
       "      <td>87000</td>\n",
       "      <td>Diesel</td>\n",
       "      <td>Manual</td>\n",
       "      <td>First</td>\n",
       "      <td>20.77 kmpl</td>\n",
       "      <td>1248 CC</td>\n",
       "      <td>88.76 bhp</td>\n",
       "      <td>7.0</td>\n",
       "      <td>6.00</td>\n",
       "    </tr>\n",
       "    <tr>\n",
       "      <th>4</th>\n",
       "      <td>Audi A4 New 2.0 TDI Multitronic</td>\n",
       "      <td>Coimbatore</td>\n",
       "      <td>2013</td>\n",
       "      <td>40670</td>\n",
       "      <td>Diesel</td>\n",
       "      <td>Automatic</td>\n",
       "      <td>Second</td>\n",
       "      <td>15.2 kmpl</td>\n",
       "      <td>1968 CC</td>\n",
       "      <td>140.8 bhp</td>\n",
       "      <td>5.0</td>\n",
       "      <td>17.74</td>\n",
       "    </tr>\n",
       "    <tr>\n",
       "      <th>...</th>\n",
       "      <td>...</td>\n",
       "      <td>...</td>\n",
       "      <td>...</td>\n",
       "      <td>...</td>\n",
       "      <td>...</td>\n",
       "      <td>...</td>\n",
       "      <td>...</td>\n",
       "      <td>...</td>\n",
       "      <td>...</td>\n",
       "      <td>...</td>\n",
       "      <td>...</td>\n",
       "      <td>...</td>\n",
       "    </tr>\n",
       "    <tr>\n",
       "      <th>6014</th>\n",
       "      <td>Maruti Swift VDI</td>\n",
       "      <td>Delhi</td>\n",
       "      <td>2014</td>\n",
       "      <td>27365</td>\n",
       "      <td>Diesel</td>\n",
       "      <td>Manual</td>\n",
       "      <td>First</td>\n",
       "      <td>28.4 kmpl</td>\n",
       "      <td>1248 CC</td>\n",
       "      <td>74 bhp</td>\n",
       "      <td>5.0</td>\n",
       "      <td>4.75</td>\n",
       "    </tr>\n",
       "    <tr>\n",
       "      <th>6015</th>\n",
       "      <td>Hyundai Xcent 1.1 CRDi S</td>\n",
       "      <td>Jaipur</td>\n",
       "      <td>2015</td>\n",
       "      <td>100000</td>\n",
       "      <td>Diesel</td>\n",
       "      <td>Manual</td>\n",
       "      <td>First</td>\n",
       "      <td>24.4 kmpl</td>\n",
       "      <td>1120 CC</td>\n",
       "      <td>71 bhp</td>\n",
       "      <td>5.0</td>\n",
       "      <td>4.00</td>\n",
       "    </tr>\n",
       "    <tr>\n",
       "      <th>6016</th>\n",
       "      <td>Mahindra Xylo D4 BSIV</td>\n",
       "      <td>Jaipur</td>\n",
       "      <td>2012</td>\n",
       "      <td>55000</td>\n",
       "      <td>Diesel</td>\n",
       "      <td>Manual</td>\n",
       "      <td>Second</td>\n",
       "      <td>14.0 kmpl</td>\n",
       "      <td>2498 CC</td>\n",
       "      <td>112 bhp</td>\n",
       "      <td>8.0</td>\n",
       "      <td>2.90</td>\n",
       "    </tr>\n",
       "    <tr>\n",
       "      <th>6017</th>\n",
       "      <td>Maruti Wagon R VXI</td>\n",
       "      <td>Kolkata</td>\n",
       "      <td>2013</td>\n",
       "      <td>46000</td>\n",
       "      <td>Petrol</td>\n",
       "      <td>Manual</td>\n",
       "      <td>First</td>\n",
       "      <td>18.9 kmpl</td>\n",
       "      <td>998 CC</td>\n",
       "      <td>67.1 bhp</td>\n",
       "      <td>5.0</td>\n",
       "      <td>2.65</td>\n",
       "    </tr>\n",
       "    <tr>\n",
       "      <th>6018</th>\n",
       "      <td>Chevrolet Beat Diesel</td>\n",
       "      <td>Hyderabad</td>\n",
       "      <td>2011</td>\n",
       "      <td>47000</td>\n",
       "      <td>Diesel</td>\n",
       "      <td>Manual</td>\n",
       "      <td>First</td>\n",
       "      <td>25.44 kmpl</td>\n",
       "      <td>936 CC</td>\n",
       "      <td>57.6 bhp</td>\n",
       "      <td>5.0</td>\n",
       "      <td>2.50</td>\n",
       "    </tr>\n",
       "  </tbody>\n",
       "</table>\n",
       "<p>6019 rows × 12 columns</p>\n",
       "</div>"
      ],
      "text/plain": [
       "                                  Name    Location  Year  Kilometers_Driven  \\\n",
       "0               Maruti Wagon R LXI CNG      Mumbai  2010              72000   \n",
       "1     Hyundai Creta 1.6 CRDi SX Option        Pune  2015              41000   \n",
       "2                         Honda Jazz V     Chennai  2011              46000   \n",
       "3                    Maruti Ertiga VDI     Chennai  2012              87000   \n",
       "4      Audi A4 New 2.0 TDI Multitronic  Coimbatore  2013              40670   \n",
       "...                                ...         ...   ...                ...   \n",
       "6014                  Maruti Swift VDI       Delhi  2014              27365   \n",
       "6015          Hyundai Xcent 1.1 CRDi S      Jaipur  2015             100000   \n",
       "6016             Mahindra Xylo D4 BSIV      Jaipur  2012              55000   \n",
       "6017                Maruti Wagon R VXI     Kolkata  2013              46000   \n",
       "6018             Chevrolet Beat Diesel   Hyderabad  2011              47000   \n",
       "\n",
       "     Fuel_Type Transmission Owner_Type     Mileage   Engine      Power  Seats  \\\n",
       "0          CNG       Manual      First  26.6 km/kg   998 CC  58.16 bhp    5.0   \n",
       "1       Diesel       Manual      First  19.67 kmpl  1582 CC  126.2 bhp    5.0   \n",
       "2       Petrol       Manual      First   18.2 kmpl  1199 CC   88.7 bhp    5.0   \n",
       "3       Diesel       Manual      First  20.77 kmpl  1248 CC  88.76 bhp    7.0   \n",
       "4       Diesel    Automatic     Second   15.2 kmpl  1968 CC  140.8 bhp    5.0   \n",
       "...        ...          ...        ...         ...      ...        ...    ...   \n",
       "6014    Diesel       Manual      First   28.4 kmpl  1248 CC     74 bhp    5.0   \n",
       "6015    Diesel       Manual      First   24.4 kmpl  1120 CC     71 bhp    5.0   \n",
       "6016    Diesel       Manual     Second   14.0 kmpl  2498 CC    112 bhp    8.0   \n",
       "6017    Petrol       Manual      First   18.9 kmpl   998 CC   67.1 bhp    5.0   \n",
       "6018    Diesel       Manual      First  25.44 kmpl   936 CC   57.6 bhp    5.0   \n",
       "\n",
       "      Price  \n",
       "0      1.75  \n",
       "1     12.50  \n",
       "2      4.50  \n",
       "3      6.00  \n",
       "4     17.74  \n",
       "...     ...  \n",
       "6014   4.75  \n",
       "6015   4.00  \n",
       "6016   2.90  \n",
       "6017   2.65  \n",
       "6018   2.50  \n",
       "\n",
       "[6019 rows x 12 columns]"
      ]
     },
     "execution_count": 2,
     "metadata": {},
     "output_type": "execute_result"
    }
   ],
   "source": [
    "du = pd.read_csv(\"used_car_data2.csv\")\n",
    "df = du.drop_duplicates()\n",
    "df"
   ]
  },
  {
   "cell_type": "markdown",
   "metadata": {},
   "source": [
    "# B. Mencari Informasi Bentuk dan Tipe Data dari Dataset"
   ]
  },
  {
   "cell_type": "code",
   "execution_count": 3,
   "metadata": {},
   "outputs": [
    {
     "data": {
      "text/plain": [
       "Index(['Name', 'Location', 'Year', 'Kilometers_Driven', 'Fuel_Type',\n",
       "       'Transmission', 'Owner_Type', 'Mileage', 'Engine', 'Power', 'Seats',\n",
       "       'Price'],\n",
       "      dtype='object')"
      ]
     },
     "execution_count": 3,
     "metadata": {},
     "output_type": "execute_result"
    }
   ],
   "source": [
    "df.columns"
   ]
  },
  {
   "cell_type": "code",
   "execution_count": 4,
   "metadata": {},
   "outputs": [
    {
     "data": {
      "text/plain": [
       "Name                  0\n",
       "Location              0\n",
       "Year                  0\n",
       "Kilometers_Driven     0\n",
       "Fuel_Type             0\n",
       "Transmission          0\n",
       "Owner_Type            0\n",
       "Mileage               2\n",
       "Engine               36\n",
       "Power                36\n",
       "Seats                42\n",
       "Price                 0\n",
       "dtype: int64"
      ]
     },
     "execution_count": 4,
     "metadata": {},
     "output_type": "execute_result"
    }
   ],
   "source": [
    "df.isnull().sum()"
   ]
  },
  {
   "cell_type": "code",
   "execution_count": 5,
   "metadata": {
    "scrolled": true
   },
   "outputs": [
    {
     "data": {
      "text/plain": [
       "Name                  object\n",
       "Location              object\n",
       "Year                   int64\n",
       "Kilometers_Driven      int64\n",
       "Fuel_Type             object\n",
       "Transmission          object\n",
       "Owner_Type            object\n",
       "Mileage               object\n",
       "Engine                object\n",
       "Power                 object\n",
       "Seats                float64\n",
       "Price                float64\n",
       "dtype: object"
      ]
     },
     "execution_count": 5,
     "metadata": {},
     "output_type": "execute_result"
    }
   ],
   "source": [
    "df.dtypes"
   ]
  },
  {
   "cell_type": "markdown",
   "metadata": {},
   "source": [
    "Pada dataset tersebut, terdapat missing value pada kolom Mileage, Engine, Power, dan Seats. Kemudian dapat dilihat bahwa tipe data pada kolom Mileage, Engine, dan Power berupa object karena terdapat string didalamnya. Untuk mengubah tipe data menjadi numerik diperlukan sedikit manipulasi. \n",
    "\n",
    "Berdasarkan hasil amatan dataset diatas, nilai pada kolom Mileage memiliki satuan yang berbeda. Hal ini disebabkan oleh kolom Fuel Type yang merupakan jenis bahan bakar pada mobil bekas tersebut. Sehingga data yang akan dimanipulasi adalah pada pada kolom Engine dan Power serta mengabaikan sesaat data Fuel Type.\n",
    "\n",
    "Pada kolom Power, terdapat missing value dengan komponen 'null bhp' dan 'nan'. Pada tipe data 'df', komponen 'null bhp' dianggap sebagai nilai dan tidak terdeteksi bahwa komponen tersebut tidak memiliki nilai. Sementara 'nan' dianggap sebagai tidak adanya suatu nilai pada kolom Power. Sedemikian sehingga, komponen 'null' akan dimanipulasi menjadi 0 (numerik) dengan langkah berikut."
   ]
  },
  {
   "cell_type": "code",
   "execution_count": 6,
   "metadata": {},
   "outputs": [
    {
     "data": {
      "text/html": [
       "<div>\n",
       "<style scoped>\n",
       "    .dataframe tbody tr th:only-of-type {\n",
       "        vertical-align: middle;\n",
       "    }\n",
       "\n",
       "    .dataframe tbody tr th {\n",
       "        vertical-align: top;\n",
       "    }\n",
       "\n",
       "    .dataframe thead th {\n",
       "        text-align: right;\n",
       "    }\n",
       "</style>\n",
       "<table border=\"1\" class=\"dataframe\">\n",
       "  <thead>\n",
       "    <tr style=\"text-align: right;\">\n",
       "      <th></th>\n",
       "      <th>Name</th>\n",
       "      <th>Location</th>\n",
       "      <th>Year</th>\n",
       "      <th>Kilometers_Driven</th>\n",
       "      <th>Fuel_Type</th>\n",
       "      <th>Transmission</th>\n",
       "      <th>Owner_Type</th>\n",
       "      <th>Mileage</th>\n",
       "      <th>Engine</th>\n",
       "      <th>Power</th>\n",
       "      <th>Seats</th>\n",
       "      <th>Price</th>\n",
       "    </tr>\n",
       "  </thead>\n",
       "  <tbody>\n",
       "    <tr>\n",
       "      <th>76</th>\n",
       "      <td>Ford Fiesta 1.4 SXi TDCi</td>\n",
       "      <td>Jaipur</td>\n",
       "      <td>2008</td>\n",
       "      <td>111111</td>\n",
       "      <td>Diesel</td>\n",
       "      <td>Manual</td>\n",
       "      <td>First</td>\n",
       "      <td>17.8 kmpl</td>\n",
       "      <td>1399 CC</td>\n",
       "      <td>null bhp</td>\n",
       "      <td>5.0</td>\n",
       "      <td>2.00</td>\n",
       "    </tr>\n",
       "    <tr>\n",
       "      <th>79</th>\n",
       "      <td>Hyundai Santro Xing XL</td>\n",
       "      <td>Hyderabad</td>\n",
       "      <td>2005</td>\n",
       "      <td>87591</td>\n",
       "      <td>Petrol</td>\n",
       "      <td>Manual</td>\n",
       "      <td>First</td>\n",
       "      <td>0.0 kmpl</td>\n",
       "      <td>1086 CC</td>\n",
       "      <td>null bhp</td>\n",
       "      <td>5.0</td>\n",
       "      <td>1.30</td>\n",
       "    </tr>\n",
       "    <tr>\n",
       "      <th>89</th>\n",
       "      <td>Hyundai Santro Xing XO</td>\n",
       "      <td>Hyderabad</td>\n",
       "      <td>2007</td>\n",
       "      <td>73745</td>\n",
       "      <td>Petrol</td>\n",
       "      <td>Manual</td>\n",
       "      <td>First</td>\n",
       "      <td>17.0 kmpl</td>\n",
       "      <td>1086 CC</td>\n",
       "      <td>null bhp</td>\n",
       "      <td>5.0</td>\n",
       "      <td>2.10</td>\n",
       "    </tr>\n",
       "    <tr>\n",
       "      <th>120</th>\n",
       "      <td>Hyundai Santro Xing XL eRLX Euro III</td>\n",
       "      <td>Mumbai</td>\n",
       "      <td>2005</td>\n",
       "      <td>102000</td>\n",
       "      <td>Petrol</td>\n",
       "      <td>Manual</td>\n",
       "      <td>Second</td>\n",
       "      <td>17.0 kmpl</td>\n",
       "      <td>1086 CC</td>\n",
       "      <td>null bhp</td>\n",
       "      <td>5.0</td>\n",
       "      <td>0.85</td>\n",
       "    </tr>\n",
       "    <tr>\n",
       "      <th>143</th>\n",
       "      <td>Hyundai Santro Xing XO eRLX Euro II</td>\n",
       "      <td>Kochi</td>\n",
       "      <td>2008</td>\n",
       "      <td>80759</td>\n",
       "      <td>Petrol</td>\n",
       "      <td>Manual</td>\n",
       "      <td>Third</td>\n",
       "      <td>17.0 kmpl</td>\n",
       "      <td>1086 CC</td>\n",
       "      <td>null bhp</td>\n",
       "      <td>5.0</td>\n",
       "      <td>1.67</td>\n",
       "    </tr>\n",
       "    <tr>\n",
       "      <th>...</th>\n",
       "      <td>...</td>\n",
       "      <td>...</td>\n",
       "      <td>...</td>\n",
       "      <td>...</td>\n",
       "      <td>...</td>\n",
       "      <td>...</td>\n",
       "      <td>...</td>\n",
       "      <td>...</td>\n",
       "      <td>...</td>\n",
       "      <td>...</td>\n",
       "      <td>...</td>\n",
       "      <td>...</td>\n",
       "    </tr>\n",
       "    <tr>\n",
       "      <th>5873</th>\n",
       "      <td>Hyundai Santro Xing XO eRLX Euro II</td>\n",
       "      <td>Pune</td>\n",
       "      <td>2006</td>\n",
       "      <td>47200</td>\n",
       "      <td>Petrol</td>\n",
       "      <td>Manual</td>\n",
       "      <td>Second</td>\n",
       "      <td>17.0 kmpl</td>\n",
       "      <td>1086 CC</td>\n",
       "      <td>null bhp</td>\n",
       "      <td>5.0</td>\n",
       "      <td>1.20</td>\n",
       "    </tr>\n",
       "    <tr>\n",
       "      <th>5893</th>\n",
       "      <td>Maruti Estilo LXI</td>\n",
       "      <td>Chennai</td>\n",
       "      <td>2008</td>\n",
       "      <td>51000</td>\n",
       "      <td>Petrol</td>\n",
       "      <td>Manual</td>\n",
       "      <td>Second</td>\n",
       "      <td>19.5 kmpl</td>\n",
       "      <td>1061 CC</td>\n",
       "      <td>null bhp</td>\n",
       "      <td>NaN</td>\n",
       "      <td>1.75</td>\n",
       "    </tr>\n",
       "    <tr>\n",
       "      <th>5925</th>\n",
       "      <td>Skoda Laura Classic 1.8 TSI</td>\n",
       "      <td>Pune</td>\n",
       "      <td>2010</td>\n",
       "      <td>85000</td>\n",
       "      <td>Petrol</td>\n",
       "      <td>Manual</td>\n",
       "      <td>First</td>\n",
       "      <td>17.5 kmpl</td>\n",
       "      <td>1798 CC</td>\n",
       "      <td>null bhp</td>\n",
       "      <td>5.0</td>\n",
       "      <td>2.85</td>\n",
       "    </tr>\n",
       "    <tr>\n",
       "      <th>5943</th>\n",
       "      <td>Mahindra Jeep MM 540 DP</td>\n",
       "      <td>Chennai</td>\n",
       "      <td>2002</td>\n",
       "      <td>75000</td>\n",
       "      <td>Diesel</td>\n",
       "      <td>Manual</td>\n",
       "      <td>First</td>\n",
       "      <td>0.0 kmpl</td>\n",
       "      <td>2112 CC</td>\n",
       "      <td>null bhp</td>\n",
       "      <td>6.0</td>\n",
       "      <td>1.70</td>\n",
       "    </tr>\n",
       "    <tr>\n",
       "      <th>5985</th>\n",
       "      <td>Toyota Etios GD</td>\n",
       "      <td>Delhi</td>\n",
       "      <td>2013</td>\n",
       "      <td>70000</td>\n",
       "      <td>Diesel</td>\n",
       "      <td>Manual</td>\n",
       "      <td>First</td>\n",
       "      <td>23.59 kmpl</td>\n",
       "      <td>1364 CC</td>\n",
       "      <td>null bhp</td>\n",
       "      <td>5.0</td>\n",
       "      <td>3.88</td>\n",
       "    </tr>\n",
       "  </tbody>\n",
       "</table>\n",
       "<p>107 rows × 12 columns</p>\n",
       "</div>"
      ],
      "text/plain": [
       "                                      Name   Location  Year  \\\n",
       "76                Ford Fiesta 1.4 SXi TDCi     Jaipur  2008   \n",
       "79                  Hyundai Santro Xing XL  Hyderabad  2005   \n",
       "89                  Hyundai Santro Xing XO  Hyderabad  2007   \n",
       "120   Hyundai Santro Xing XL eRLX Euro III     Mumbai  2005   \n",
       "143    Hyundai Santro Xing XO eRLX Euro II      Kochi  2008   \n",
       "...                                    ...        ...   ...   \n",
       "5873   Hyundai Santro Xing XO eRLX Euro II       Pune  2006   \n",
       "5893                     Maruti Estilo LXI    Chennai  2008   \n",
       "5925           Skoda Laura Classic 1.8 TSI       Pune  2010   \n",
       "5943               Mahindra Jeep MM 540 DP    Chennai  2002   \n",
       "5985                       Toyota Etios GD      Delhi  2013   \n",
       "\n",
       "      Kilometers_Driven Fuel_Type Transmission Owner_Type     Mileage  \\\n",
       "76               111111    Diesel       Manual      First   17.8 kmpl   \n",
       "79                87591    Petrol       Manual      First    0.0 kmpl   \n",
       "89                73745    Petrol       Manual      First   17.0 kmpl   \n",
       "120              102000    Petrol       Manual     Second   17.0 kmpl   \n",
       "143               80759    Petrol       Manual      Third   17.0 kmpl   \n",
       "...                 ...       ...          ...        ...         ...   \n",
       "5873              47200    Petrol       Manual     Second   17.0 kmpl   \n",
       "5893              51000    Petrol       Manual     Second   19.5 kmpl   \n",
       "5925              85000    Petrol       Manual      First   17.5 kmpl   \n",
       "5943              75000    Diesel       Manual      First    0.0 kmpl   \n",
       "5985              70000    Diesel       Manual      First  23.59 kmpl   \n",
       "\n",
       "       Engine     Power  Seats  Price  \n",
       "76    1399 CC  null bhp    5.0   2.00  \n",
       "79    1086 CC  null bhp    5.0   1.30  \n",
       "89    1086 CC  null bhp    5.0   2.10  \n",
       "120   1086 CC  null bhp    5.0   0.85  \n",
       "143   1086 CC  null bhp    5.0   1.67  \n",
       "...       ...       ...    ...    ...  \n",
       "5873  1086 CC  null bhp    5.0   1.20  \n",
       "5893  1061 CC  null bhp    NaN   1.75  \n",
       "5925  1798 CC  null bhp    5.0   2.85  \n",
       "5943  2112 CC  null bhp    6.0   1.70  \n",
       "5985  1364 CC  null bhp    5.0   3.88  \n",
       "\n",
       "[107 rows x 12 columns]"
      ]
     },
     "execution_count": 6,
     "metadata": {},
     "output_type": "execute_result"
    }
   ],
   "source": [
    "df[df[\"Power\"]==\"null bhp\"]"
   ]
  },
  {
   "cell_type": "markdown",
   "metadata": {},
   "source": [
    "Terdapat 107 baris pada kolom Power dengan nilai 'null bhp'."
   ]
  },
  {
   "cell_type": "code",
   "execution_count": 7,
   "metadata": {},
   "outputs": [
    {
     "data": {
      "text/html": [
       "<div>\n",
       "<style scoped>\n",
       "    .dataframe tbody tr th:only-of-type {\n",
       "        vertical-align: middle;\n",
       "    }\n",
       "\n",
       "    .dataframe tbody tr th {\n",
       "        vertical-align: top;\n",
       "    }\n",
       "\n",
       "    .dataframe thead th {\n",
       "        text-align: right;\n",
       "    }\n",
       "</style>\n",
       "<table border=\"1\" class=\"dataframe\">\n",
       "  <thead>\n",
       "    <tr style=\"text-align: right;\">\n",
       "      <th></th>\n",
       "      <th>Name</th>\n",
       "      <th>Location</th>\n",
       "      <th>Year</th>\n",
       "      <th>Kilometers_Driven</th>\n",
       "      <th>Fuel_Type</th>\n",
       "      <th>Transmission</th>\n",
       "      <th>Owner_Type</th>\n",
       "      <th>Mileage</th>\n",
       "      <th>Seats</th>\n",
       "      <th>Price</th>\n",
       "      <th>New_Engine</th>\n",
       "      <th>New_Power</th>\n",
       "    </tr>\n",
       "  </thead>\n",
       "  <tbody>\n",
       "    <tr>\n",
       "      <th>0</th>\n",
       "      <td>Maruti Wagon R LXI CNG</td>\n",
       "      <td>Mumbai</td>\n",
       "      <td>2010</td>\n",
       "      <td>72000</td>\n",
       "      <td>CNG</td>\n",
       "      <td>Manual</td>\n",
       "      <td>First</td>\n",
       "      <td>26.6 km/kg</td>\n",
       "      <td>5.0</td>\n",
       "      <td>1.75</td>\n",
       "      <td>998.0</td>\n",
       "      <td>58.16</td>\n",
       "    </tr>\n",
       "    <tr>\n",
       "      <th>1</th>\n",
       "      <td>Hyundai Creta 1.6 CRDi SX Option</td>\n",
       "      <td>Pune</td>\n",
       "      <td>2015</td>\n",
       "      <td>41000</td>\n",
       "      <td>Diesel</td>\n",
       "      <td>Manual</td>\n",
       "      <td>First</td>\n",
       "      <td>19.67 kmpl</td>\n",
       "      <td>5.0</td>\n",
       "      <td>12.50</td>\n",
       "      <td>1582.0</td>\n",
       "      <td>126.20</td>\n",
       "    </tr>\n",
       "    <tr>\n",
       "      <th>2</th>\n",
       "      <td>Honda Jazz V</td>\n",
       "      <td>Chennai</td>\n",
       "      <td>2011</td>\n",
       "      <td>46000</td>\n",
       "      <td>Petrol</td>\n",
       "      <td>Manual</td>\n",
       "      <td>First</td>\n",
       "      <td>18.2 kmpl</td>\n",
       "      <td>5.0</td>\n",
       "      <td>4.50</td>\n",
       "      <td>1199.0</td>\n",
       "      <td>88.70</td>\n",
       "    </tr>\n",
       "    <tr>\n",
       "      <th>3</th>\n",
       "      <td>Maruti Ertiga VDI</td>\n",
       "      <td>Chennai</td>\n",
       "      <td>2012</td>\n",
       "      <td>87000</td>\n",
       "      <td>Diesel</td>\n",
       "      <td>Manual</td>\n",
       "      <td>First</td>\n",
       "      <td>20.77 kmpl</td>\n",
       "      <td>7.0</td>\n",
       "      <td>6.00</td>\n",
       "      <td>1248.0</td>\n",
       "      <td>88.76</td>\n",
       "    </tr>\n",
       "    <tr>\n",
       "      <th>4</th>\n",
       "      <td>Audi A4 New 2.0 TDI Multitronic</td>\n",
       "      <td>Coimbatore</td>\n",
       "      <td>2013</td>\n",
       "      <td>40670</td>\n",
       "      <td>Diesel</td>\n",
       "      <td>Automatic</td>\n",
       "      <td>Second</td>\n",
       "      <td>15.2 kmpl</td>\n",
       "      <td>5.0</td>\n",
       "      <td>17.74</td>\n",
       "      <td>1968.0</td>\n",
       "      <td>140.80</td>\n",
       "    </tr>\n",
       "  </tbody>\n",
       "</table>\n",
       "</div>"
      ],
      "text/plain": [
       "                               Name    Location  Year  Kilometers_Driven  \\\n",
       "0            Maruti Wagon R LXI CNG      Mumbai  2010              72000   \n",
       "1  Hyundai Creta 1.6 CRDi SX Option        Pune  2015              41000   \n",
       "2                      Honda Jazz V     Chennai  2011              46000   \n",
       "3                 Maruti Ertiga VDI     Chennai  2012              87000   \n",
       "4   Audi A4 New 2.0 TDI Multitronic  Coimbatore  2013              40670   \n",
       "\n",
       "  Fuel_Type Transmission Owner_Type     Mileage  Seats  Price  New_Engine  \\\n",
       "0       CNG       Manual      First  26.6 km/kg    5.0   1.75       998.0   \n",
       "1    Diesel       Manual      First  19.67 kmpl    5.0  12.50      1582.0   \n",
       "2    Petrol       Manual      First   18.2 kmpl    5.0   4.50      1199.0   \n",
       "3    Diesel       Manual      First  20.77 kmpl    7.0   6.00      1248.0   \n",
       "4    Diesel    Automatic     Second   15.2 kmpl    5.0  17.74      1968.0   \n",
       "\n",
       "   New_Power  \n",
       "0      58.16  \n",
       "1     126.20  \n",
       "2      88.70  \n",
       "3      88.76  \n",
       "4     140.80  "
      ]
     },
     "execution_count": 7,
     "metadata": {},
     "output_type": "execute_result"
    }
   ],
   "source": [
    "engine = df[\"Engine\"].str.replace(\"CC\", \"\")\n",
    "engine2 = engine.astype(float)\n",
    "power = df[\"Power\"].str.replace(\"bhp\",\"\")\n",
    "power2 = power.fillna(0)\n",
    "power3 = power2.str.replace(\"null\",\"0\")\n",
    "power4 = power3.astype(float)\n",
    "med_power = power4.median() #tak perlu\n",
    "power5 = power4.replace(0,med_power) #tak perlu\n",
    "new_engine = pd.DataFrame({\"New_Engine\":engine2})\n",
    "new_power = pd.DataFrame({\"New_Power\":power4})\n",
    "hue = df.drop(columns ={\"Engine\",\"Power\"})\n",
    "hue2 = hue.join(new_engine)\n",
    "df3 = hue2.join(new_power)\n",
    "df3.head()"
   ]
  },
  {
   "cell_type": "code",
   "execution_count": 8,
   "metadata": {},
   "outputs": [
    {
     "data": {
      "text/plain": [
       "Name                  object\n",
       "Location              object\n",
       "Year                   int64\n",
       "Kilometers_Driven      int64\n",
       "Fuel_Type             object\n",
       "Transmission          object\n",
       "Owner_Type            object\n",
       "Mileage               object\n",
       "Seats                float64\n",
       "Price                float64\n",
       "New_Engine           float64\n",
       "New_Power            float64\n",
       "dtype: object"
      ]
     },
     "execution_count": 8,
     "metadata": {},
     "output_type": "execute_result"
    }
   ],
   "source": [
    "df3.dtypes"
   ]
  },
  {
   "cell_type": "markdown",
   "metadata": {},
   "source": [
    "Setelah dimanipulasi, tipe data pada Engine dan Power berubah menjadi numerik (float)."
   ]
  },
  {
   "cell_type": "markdown",
   "metadata": {},
   "source": [
    "# C. Informasi Dataset"
   ]
  },
  {
   "cell_type": "markdown",
   "metadata": {},
   "source": [
    "###### 1. Merek mobil bekas apa saja yang tersedia dan berapa banyak untuk tiap merek?"
   ]
  },
  {
   "cell_type": "code",
   "execution_count": 9,
   "metadata": {},
   "outputs": [
    {
     "data": {
      "text/plain": [
       "Maruti           1211\n",
       "Hyundai          1107\n",
       "Honda             608\n",
       "Toyota            411\n",
       "Mercedes-Benz     318\n",
       "Volkswagen        315\n",
       "Ford              300\n",
       "Mahindra          272\n",
       "Bmw               267\n",
       "Audi              236\n",
       "Tata              186\n",
       "Skoda             173\n",
       "Renault           145\n",
       "Chevrolet         121\n",
       "Nissan             91\n",
       "Land               60\n",
       "Jaguar             40\n",
       "Fiat               28\n",
       "Mitsubishi         27\n",
       "Mini               26\n",
       "Volvo              21\n",
       "Porsche            18\n",
       "Jeep               15\n",
       "Datsun             13\n",
       "Isuzu               3\n",
       "Force               3\n",
       "Ambassador          1\n",
       "Smart               1\n",
       "Lamborghini         1\n",
       "Bentley             1\n",
       "Name: Kolom Nama, dtype: int64"
      ]
     },
     "execution_count": 9,
     "metadata": {},
     "output_type": "execute_result"
    }
   ],
   "source": [
    "df3[\"New_Name\"] = None\n",
    "index_name = df3.columns.get_loc(\"Name\")\n",
    "index_new_name = df3.columns.get_loc(\"New_Name\")\n",
    "regex = r'(\\s)'\n",
    "for row in range(0, len(df3)):\n",
    "    new_name = re.split(regex, df3.iat[row, index_name])\n",
    "    df3.iat[row, index_new_name] = new_name\n",
    "temp=[]\n",
    "for i in df3[\"New_Name\"]:\n",
    "    temp.append(i[0])\n",
    "data_merek = pd.DataFrame({\"Kolom Nama\":temp})\n",
    "dfm = data_merek[\"Kolom Nama\"].str.lower().str.title()\n",
    "dfm.value_counts()"
   ]
  },
  {
   "cell_type": "markdown",
   "metadata": {},
   "source": [
    "Berdasarkan ouput diatas, dapat diketahui bahwa jenis mobil bekas Maruti paling digemari oleh masyarakat India. Diikuti oleh Hyundai dari Korea Selatan, Honda dan Toyota dari Jepang dan Mercedez-Benz dari Jerman. Sebanyak 20,11 % Maruti menguasai pasar mobil bekas di India."
   ]
  },
  {
   "cell_type": "markdown",
   "metadata": {},
   "source": [
    "###### 2. Kota apa yang memiliki mobil bekas terbanyak ?"
   ]
  },
  {
   "cell_type": "code",
   "execution_count": 10,
   "metadata": {},
   "outputs": [
    {
     "data": {
      "text/plain": [
       "Mumbai        790\n",
       "Hyderabad     742\n",
       "Kochi         651\n",
       "Coimbatore    636\n",
       "Pune          622\n",
       "Delhi         554\n",
       "Kolkata       535\n",
       "Chennai       494\n",
       "Jaipur        413\n",
       "Bangalore     358\n",
       "Ahmedabad     224\n",
       "Name: Location, dtype: int64"
      ]
     },
     "execution_count": 10,
     "metadata": {},
     "output_type": "execute_result"
    }
   ],
   "source": [
    "df3[\"Location\"].value_counts()"
   ]
  },
  {
   "cell_type": "markdown",
   "metadata": {},
   "source": [
    "Dapat dilihat bahwa kota Mumbai merupakan kota dengan jumlah mobil bekas terbanyak di India."
   ]
  },
  {
   "cell_type": "markdown",
   "metadata": {},
   "source": [
    "###### 3. Bagaimana distribusi tahun edisi mobil-mobil bekas tersebut ?"
   ]
  },
  {
   "cell_type": "code",
   "execution_count": 11,
   "metadata": {},
   "outputs": [],
   "source": [
    "dist = df3[\"Year\"].value_counts()\n",
    "tahun = pd.DataFrame({\"Jumlah Mobil Bekas\":dist})\n",
    "q = tahun.reset_index()\n",
    "tahun = q.rename(columns={\"index\":\"Tahun\"})\n",
    "tahun1 = tahun.sort_values(by =\"Tahun\")"
   ]
  },
  {
   "cell_type": "code",
   "execution_count": 12,
   "metadata": {},
   "outputs": [
    {
     "data": {
      "image/png": "[encoded data removed]",
      "text/plain": [
       "<Figure size 1152x432 with 1 Axes>"
      ]
     },
     "metadata": {},
     "output_type": "display_data"
    }
   ],
   "source": [
    "fig, axes = plt.subplots(1,1, figsize=(16, 6))\n",
    "fig.suptitle(\"Distribusi Jumlah Mobil Bekas di India dengan Bar Chart\", \n",
    "             x=0., y=1.1, fontsize=24, fontweight='bold', ha=\"left\", color = \"black\")\n",
    "\n",
    "y = tahun1[\"Jumlah Mobil Bekas\"].plot(kind=\"bar\", ax = axes, color=\"darkred\", xlim=[0,900], fontsize = 14)\n",
    "for p in y.patches:\n",
    "    y.annotate(format(p.get_height()), \n",
    "                   (p.get_x() + p.get_width() / 2., p.get_height()), \n",
    "                   ha = 'center', va = 'center', \n",
    "                   xytext = (0, 9), \n",
    "                   textcoords = 'offset points', color = \"brown\", fontweight = 'bold', fontsize=14)\n",
    "axes.set_xticklabels(list(tahun1.Tahun), color = \"black\", fontweight='bold')\n",
    "axes.legend([\"Jumlah Mobil Bekas per Tahun\"], fontsize=14, bbox_to_anchor=(0.1, .1, 0.1, 1))\n",
    "axes.set_ylabel(\"Jumlah Mobil Bekas \\n\", fontsize = 19)\n",
    "axes.set_xlabel(\"\\n Tahun\", fontsize = 19)\n",
    "axes.set_frame_on(False) #grid\n",
    "fig.patch.set_facecolor('white')\n",
    "plt.show()"
   ]
  },
  {
   "cell_type": "code",
   "execution_count": 13,
   "metadata": {},
   "outputs": [
    {
     "data": {
      "text/plain": [
       "Text(0.0, 1.1, 'Tren Jumlah Mobil Bekas di India dengan Line Chart')"
      ]
     },
     "execution_count": 13,
     "metadata": {},
     "output_type": "execute_result"
    },
    {
     "data": {
      "image/png": "[encoded data removed]",
      "text/plain": [
       "<Figure size 1008x432 with 1 Axes>"
      ]
     },
     "metadata": {
      "needs_background": "light"
     },
     "output_type": "display_data"
    }
   ],
   "source": [
    "plt.figure(figsize=(14, 6))\n",
    "splot=sns.lineplot(x=\"Tahun\",y=\"Jumlah Mobil Bekas\",data=tahun1, linewidth = 3, color = 'red')\n",
    "sns.axes_style(\"darkgrid\")\n",
    "fig.patch.set_facecolor('xkcd:mint green')\n",
    "plt.annotate('Titik distribusi tertinggi \\n {} ; {}'.format(2014, 797) , \n",
    "            fontsize = 15, fontweight = \"bold\", xy=(2014, 797), xytext=(2005, 500),\n",
    "            arrowprops=dict(arrowstyle=\"->\", color = \"black\"))\n",
    "plt.xlabel(\"Tahun\", size=20, color = 'black')\n",
    "plt.ylabel(\"Jumlah Mobil Bekas\", size=20 , color = 'black')\n",
    "plt.legend([\"Jumlah Mobil Bekas per Tahun\"], fontsize=16)\n",
    "splot.set_frame_on(False) \n",
    "plt.title(\"Tren Jumlah Mobil Bekas di India dengan Line Chart\", \n",
    "             x=0., y=1.1, fontsize=20, fontweight='bold', ha=\"left\", color = 'black')"
   ]
  },
  {
   "cell_type": "markdown",
   "metadata": {},
   "source": [
    "Terlihat bahwa jumlah mobil bekas di India mencapai puncaknya pada tahun 2014 sebanyak 797 unit. Terjadi peningkatan jumlah mobil bekas periode 1999 sampai 2014 kemudian mengalami penurunan sampai tahun 2019."
   ]
  },
  {
   "cell_type": "markdown",
   "metadata": {},
   "source": [
    "###### 4. Berapa banyak mobil yang memiliki total jarak pemakaian dibawah 100.000 km ?"
   ]
  },
  {
   "cell_type": "code",
   "execution_count": 14,
   "metadata": {},
   "outputs": [
    {
     "name": "stdout",
     "output_type": "stream",
     "text": [
      "Banyak mobil yang memiliki total jarak pemakaian dibawah 100.000 km ada 5470 unit.\n"
     ]
    }
   ],
   "source": [
    "km = df3[df3[\"Kilometers_Driven\"]<100000]\n",
    "print(\"Banyak mobil yang memiliki total jarak pemakaian dibawah 100.000 km ada {} unit.\"\n",
    "      .format(km[\"Name\"].value_counts().sum()))"
   ]
  },
  {
   "cell_type": "markdown",
   "metadata": {},
   "source": [
    "###### 5. Pada batas berapa kilometer total jarak pemakaian bisa dikategorikan sebagai rendah atau tinggi ?"
   ]
  },
  {
   "cell_type": "code",
   "execution_count": 15,
   "metadata": {},
   "outputs": [
    {
     "name": "stdout",
     "output_type": "stream",
     "text": [
      "Median kilometer 53000.0, jumlah 2987\n"
     ]
    }
   ],
   "source": [
    "km_med = df3[\"Kilometers_Driven\"].median()\n",
    "km1 = df3[df3[\"Kilometers_Driven\"]<km_med]\n",
    "print(\"Median kilometer {}, jumlah {}\".format(km_med, km1[\"Name\"].value_counts().sum()))"
   ]
  },
  {
   "cell_type": "markdown",
   "metadata": {},
   "source": [
    "Terlihat bahwa median dari Kilometer Driven adalah 53000 km. Menurut situs https://id.priceprice.com/, sebuah mobil yang normal umumnya mampu menempuh jarak mulai 15.000 km hingga 20.000 km. Kemudian jika jarak masih di angka 10.000 km saja dapat dipastikan jika mobil tersebut jarang digunakan. Sedangkan jika sudah menunjukkan angka 20.000 km maka bisa dibilang mobil tersebut sering dipakai. \n",
    "\n",
    "Sebuah mobil yang dalam usia 5 tahun dengan jarak tempuh 75.000 km hingga 100.000 km maka ini masih dibilang dalam pemakaian yang cukup wajar. Kemudian jika kurang dari 75.000 km maka dapat dipastikan mobil tersebut cukup jarang dipakai sehingga masih memiliki usia pemakaian yang lumayan panjang.\n",
    "\n",
    "Mengacu pada dataset diatas, maka kilometer total jarak pemakaian bisa dikategorikan sebagai rendah ketika berada dibawah 53000 km yaitu sebanyak 2987 unit mobil bekas dan kategori tinggi ketika lebih dari 53000 km."
   ]
  },
  {
   "cell_type": "markdown",
   "metadata": {},
   "source": [
    "###### 6. Apakah terdapat outlier pada dataset tersebut ?"
   ]
  },
  {
   "cell_type": "code",
   "execution_count": 16,
   "metadata": {},
   "outputs": [
    {
     "data": {
      "text/plain": [
       "count    6.019000e+03\n",
       "mean     5.873838e+04\n",
       "std      9.126884e+04\n",
       "min      1.710000e+02\n",
       "25%      3.400000e+04\n",
       "50%      5.300000e+04\n",
       "75%      7.300000e+04\n",
       "max      6.500000e+06\n",
       "Name: Kilometers_Driven, dtype: float64"
      ]
     },
     "execution_count": 16,
     "metadata": {},
     "output_type": "execute_result"
    }
   ],
   "source": [
    "df3[\"Kilometers_Driven\"].describe()"
   ]
  },
  {
   "cell_type": "code",
   "execution_count": 17,
   "metadata": {},
   "outputs": [],
   "source": [
    "# Jumlah outlier Kilometers Driven\n",
    "out1 = df3[\"Kilometers_Driven\"].quantile(0.25) #q1\n",
    "out2 = df3[\"Kilometers_Driven\"].quantile(0.5) #median\n",
    "out3 = df3[\"Kilometers_Driven\"].quantile(0.75) #q2\n",
    "out4 = out3-out1\n",
    "# Minor outlier detection\n",
    "out4a = out4*1.5\n",
    "out5a,out5b = out1+out4a,out3+out4a\n",
    "# Mayor outlier detection\n",
    "out4b = out4*3\n",
    "out6a,out6b = out1+out4b,out3+out4b\n",
    "\n",
    "# Jumlah outlier Price\n",
    "out1_price = df3[\"Price\"].quantile(0.25) #q1\n",
    "out2_price = df3[\"Price\"].quantile(0.5) #median\n",
    "out3_price = df3[\"Price\"].quantile(0.75) #q2\n",
    "out4_price = out3_price-out1_price\n",
    "# Minor outlier detection\n",
    "out4a_price = out4_price*1.5\n",
    "out5a_price,out5b_price = out1_price+out4a_price,out3_price+out4a_price\n",
    "# Mayor outlier detection\n",
    "out4b_price = out4_price*3\n",
    "out6a_price,out6b_price = out1_price+out4b_price,out3_price+out4b_price\n",
    "\n",
    "# Jumlah outlier Engine\n",
    "out1_en = df3[\"New_Engine\"].quantile(0.25) #q1\n",
    "out2_en = df3[\"New_Engine\"].quantile(0.5) #median\n",
    "out3_en = df3[\"New_Engine\"].quantile(0.75) #q2\n",
    "out4_en = out3_en-out1_en\n",
    "# Minor outlier detection\n",
    "out4a_en = out4_en*1.5\n",
    "out5a_en,out5b_en = out1_en+out4a_en,out3_en+out4a_en\n",
    "# Mayor outlier detection\n",
    "out4b_en = out4_en*3\n",
    "out6a_en,out6b_en = out1_en+out4b_en,out3_en+out4b_en\n",
    "\n",
    "# Jumlah outlier Power\n",
    "out1_po = df3[\"New_Power\"].quantile(0.25) #q1\n",
    "out2_po = df3[\"New_Power\"].quantile(0.5) #median\n",
    "out3_po = df3[\"New_Power\"].quantile(0.75) #q2\n",
    "out4_po = out3_po-out1_po\n",
    "# Minor outlier detection\n",
    "out4a_po = out4_po*1.5\n",
    "out5a_po,out5b_po = out1_po+out4a_po,out3_po+out4a_po\n",
    "# Mayor outlier detection\n",
    "out4b_po = out4_po*3\n",
    "out6a_po,out6b_po = out1_po+out4b_po,out3_po+out4b_po"
   ]
  },
  {
   "cell_type": "code",
   "execution_count": 18,
   "metadata": {},
   "outputs": [
    {
     "name": "stdout",
     "output_type": "stream",
     "text": [
      "Jumlah outlier Kilometer Driven sebanyak 202 \n",
      "\n",
      "Jumlah outlier Price sebanyak 718 \n",
      "\n",
      "Jumlah outlier Power sebanyak 238 \n",
      "\n",
      "Jumlah outlier Engine sebanyak 61 \n",
      "\n"
     ]
    }
   ],
   "source": [
    "# Outlier Minor\n",
    "print(\"Jumlah outlier Kilometer Driven sebanyak {} \\n\".format(df3[df3[\"Kilometers_Driven\"]>=out5b].shape[0]))\n",
    "print(\"Jumlah outlier Price sebanyak {} \\n\".format(df3[df3[\"Price\"]>=out5b_price].shape[0]))\n",
    "print(\"Jumlah outlier Power sebanyak {} \\n\".format(df3[df3[\"New_Power\"]>=out5b_po].shape[0]))\n",
    "print(\"Jumlah outlier Engine sebanyak {} \\n\".format(df3[df3[\"New_Engine\"]>=out5b_en].shape[0]))"
   ]
  },
  {
   "cell_type": "code",
   "execution_count": 19,
   "metadata": {},
   "outputs": [
    {
     "name": "stdout",
     "output_type": "stream",
     "text": [
      "Jumlah outlier mayor Kilometer Driven sebanyak 47 \n",
      "\n",
      "Jumlah outlier mayor Price sebanyak 382 \n",
      "\n",
      "Jumlah outlier mayor Power sebanyak 34 \n",
      "\n",
      "Jumlah outlier mayor Engine sebanyak 20 \n",
      "\n"
     ]
    }
   ],
   "source": [
    "# Outlier Mayor\n",
    "print(\"Jumlah outlier mayor Kilometer Driven sebanyak {} \\n\".format(df3[df3[\"Kilometers_Driven\"]>=out6b].shape[0]))\n",
    "print(\"Jumlah outlier mayor Price sebanyak {} \\n\".format(df3[df3[\"Price\"]>=out6b_price].shape[0]))\n",
    "print(\"Jumlah outlier mayor Power sebanyak {} \\n\".format(df3[df3[\"New_Power\"]>=out6b_po].shape[0]))\n",
    "print(\"Jumlah outlier mayor Engine sebanyak {} \\n\".format(df3[df3[\"New_Engine\"]>=out6b_en].shape[0]))"
   ]
  },
  {
   "cell_type": "code",
   "execution_count": 20,
   "metadata": {},
   "outputs": [
    {
     "data": {
      "text/plain": [
       "<matplotlib.axes._subplots.AxesSubplot at 0x2b020762400>"
      ]
     },
     "execution_count": 20,
     "metadata": {},
     "output_type": "execute_result"
    },
    {
     "data": {
      "image/png": "[encoded data removed]",
      "text/plain": [
       "<Figure size 432x288 with 1 Axes>"
      ]
     },
     "metadata": {
      "needs_background": "light"
     },
     "output_type": "display_data"
    }
   ],
   "source": [
    "sns.boxplot(x=df3[\"Kilometers_Driven\"])"
   ]
  },
  {
   "cell_type": "code",
   "execution_count": 21,
   "metadata": {},
   "outputs": [
    {
     "data": {
      "text/plain": [
       "<matplotlib.axes._subplots.AxesSubplot at 0x2b02056c4f0>"
      ]
     },
     "execution_count": 21,
     "metadata": {},
     "output_type": "execute_result"
    },
    {
     "data": {
      "image/png": "[encoded data removed]",
      "text/plain": [
       "<Figure size 432x288 with 1 Axes>"
      ]
     },
     "metadata": {
      "needs_background": "light"
     },
     "output_type": "display_data"
    }
   ],
   "source": [
    "sns.boxplot(x=df3[\"Price\"])"
   ]
  },
  {
   "cell_type": "code",
   "execution_count": 22,
   "metadata": {},
   "outputs": [
    {
     "data": {
      "text/plain": [
       "<matplotlib.axes._subplots.AxesSubplot at 0x2b0205cba00>"
      ]
     },
     "execution_count": 22,
     "metadata": {},
     "output_type": "execute_result"
    },
    {
     "data": {
      "image/png": "[encoded data removed]",
      "text/plain": [
       "<Figure size 432x288 with 1 Axes>"
      ]
     },
     "metadata": {
      "needs_background": "light"
     },
     "output_type": "display_data"
    }
   ],
   "source": [
    "sns.boxplot(x=df3[\"New_Power\"])"
   ]
  },
  {
   "cell_type": "code",
   "execution_count": 23,
   "metadata": {},
   "outputs": [
    {
     "data": {
      "text/plain": [
       "<matplotlib.axes._subplots.AxesSubplot at 0x2b01a4de370>"
      ]
     },
     "execution_count": 23,
     "metadata": {},
     "output_type": "execute_result"
    },
    {
     "data": {
      "image/png": "[encoded data removed]",
      "text/plain": [
       "<Figure size 432x288 with 1 Axes>"
      ]
     },
     "metadata": {
      "needs_background": "light"
     },
     "output_type": "display_data"
    }
   ],
   "source": [
    "sns.boxplot(x=df3[\"New_Engine\"])"
   ]
  },
  {
   "cell_type": "markdown",
   "metadata": {},
   "source": [
    "###### 7. Apakah terdapat hubungan antar variabel ?"
   ]
  },
  {
   "cell_type": "code",
   "execution_count": 24,
   "metadata": {
    "scrolled": true
   },
   "outputs": [
    {
     "data": {
      "text/html": [
       "<style  type=\"text/css\" >\n",
       "    #T_c8479609_e86b_11ea_b5ce_ace2d3694abdrow0_col0 {\n",
       "            background-color:  #b40426;\n",
       "            color:  #f1f1f1;\n",
       "        }    #T_c8479609_e86b_11ea_b5ce_ace2d3694abdrow0_col1 {\n",
       "            background-color:  #3b4cc0;\n",
       "            color:  #f1f1f1;\n",
       "        }    #T_c8479609_e86b_11ea_b5ce_ace2d3694abdrow0_col2 {\n",
       "            background-color:  #3b4cc0;\n",
       "            color:  #f1f1f1;\n",
       "        }    #T_c8479609_e86b_11ea_b5ce_ace2d3694abdrow0_col3 {\n",
       "            background-color:  #a3c2fe;\n",
       "            color:  #000000;\n",
       "        }    #T_c8479609_e86b_11ea_b5ce_ace2d3694abdrow0_col4 {\n",
       "            background-color:  #3b4cc0;\n",
       "            color:  #f1f1f1;\n",
       "        }    #T_c8479609_e86b_11ea_b5ce_ace2d3694abdrow0_col5 {\n",
       "            background-color:  #4961d2;\n",
       "            color:  #f1f1f1;\n",
       "        }    #T_c8479609_e86b_11ea_b5ce_ace2d3694abdrow1_col0 {\n",
       "            background-color:  #3b4cc0;\n",
       "            color:  #f1f1f1;\n",
       "        }    #T_c8479609_e86b_11ea_b5ce_ace2d3694abdrow1_col1 {\n",
       "            background-color:  #b40426;\n",
       "            color:  #f1f1f1;\n",
       "        }    #T_c8479609_e86b_11ea_b5ce_ace2d3694abdrow1_col2 {\n",
       "            background-color:  #506bda;\n",
       "            color:  #000000;\n",
       "        }    #T_c8479609_e86b_11ea_b5ce_ace2d3694abdrow1_col3 {\n",
       "            background-color:  #3b4cc0;\n",
       "            color:  #f1f1f1;\n",
       "        }    #T_c8479609_e86b_11ea_b5ce_ace2d3694abdrow1_col4 {\n",
       "            background-color:  #6485ec;\n",
       "            color:  #000000;\n",
       "        }    #T_c8479609_e86b_11ea_b5ce_ace2d3694abdrow1_col5 {\n",
       "            background-color:  #3b4cc0;\n",
       "            color:  #f1f1f1;\n",
       "        }    #T_c8479609_e86b_11ea_b5ce_ace2d3694abdrow2_col0 {\n",
       "            background-color:  #6c8ff1;\n",
       "            color:  #000000;\n",
       "        }    #T_c8479609_e86b_11ea_b5ce_ace2d3694abdrow2_col1 {\n",
       "            background-color:  #81a4fb;\n",
       "            color:  #000000;\n",
       "        }    #T_c8479609_e86b_11ea_b5ce_ace2d3694abdrow2_col2 {\n",
       "            background-color:  #b40426;\n",
       "            color:  #f1f1f1;\n",
       "        }    #T_c8479609_e86b_11ea_b5ce_ace2d3694abdrow2_col3 {\n",
       "            background-color:  #4e68d8;\n",
       "            color:  #000000;\n",
       "        }    #T_c8479609_e86b_11ea_b5ce_ace2d3694abdrow2_col4 {\n",
       "            background-color:  #c7d7f0;\n",
       "            color:  #000000;\n",
       "        }    #T_c8479609_e86b_11ea_b5ce_ace2d3694abdrow2_col5 {\n",
       "            background-color:  #5572df;\n",
       "            color:  #000000;\n",
       "        }    #T_c8479609_e86b_11ea_b5ce_ace2d3694abdrow3_col0 {\n",
       "            background-color:  #c3d5f4;\n",
       "            color:  #000000;\n",
       "        }    #T_c8479609_e86b_11ea_b5ce_ace2d3694abdrow3_col1 {\n",
       "            background-color:  #6687ed;\n",
       "            color:  #000000;\n",
       "        }    #T_c8479609_e86b_11ea_b5ce_ace2d3694abdrow3_col2 {\n",
       "            background-color:  #465ecf;\n",
       "            color:  #f1f1f1;\n",
       "        }    #T_c8479609_e86b_11ea_b5ce_ace2d3694abdrow3_col3 {\n",
       "            background-color:  #b40426;\n",
       "            color:  #f1f1f1;\n",
       "        }    #T_c8479609_e86b_11ea_b5ce_ace2d3694abdrow3_col4 {\n",
       "            background-color:  #f7b599;\n",
       "            color:  #000000;\n",
       "        }    #T_c8479609_e86b_11ea_b5ce_ace2d3694abdrow3_col5 {\n",
       "            background-color:  #f4987a;\n",
       "            color:  #000000;\n",
       "        }    #T_c8479609_e86b_11ea_b5ce_ace2d3694abdrow4_col0 {\n",
       "            background-color:  #5a78e4;\n",
       "            color:  #000000;\n",
       "        }    #T_c8479609_e86b_11ea_b5ce_ace2d3694abdrow4_col1 {\n",
       "            background-color:  #84a7fc;\n",
       "            color:  #000000;\n",
       "        }    #T_c8479609_e86b_11ea_b5ce_ace2d3694abdrow4_col2 {\n",
       "            background-color:  #bbd1f8;\n",
       "            color:  #000000;\n",
       "        }    #T_c8479609_e86b_11ea_b5ce_ace2d3694abdrow4_col3 {\n",
       "            background-color:  #f7b99e;\n",
       "            color:  #000000;\n",
       "        }    #T_c8479609_e86b_11ea_b5ce_ace2d3694abdrow4_col4 {\n",
       "            background-color:  #b40426;\n",
       "            color:  #f1f1f1;\n",
       "        }    #T_c8479609_e86b_11ea_b5ce_ace2d3694abdrow4_col5 {\n",
       "            background-color:  #e67259;\n",
       "            color:  #000000;\n",
       "        }    #T_c8479609_e86b_11ea_b5ce_ace2d3694abdrow5_col0 {\n",
       "            background-color:  #7ea1fa;\n",
       "            color:  #000000;\n",
       "        }    #T_c8479609_e86b_11ea_b5ce_ace2d3694abdrow5_col1 {\n",
       "            background-color:  #7093f3;\n",
       "            color:  #000000;\n",
       "        }    #T_c8479609_e86b_11ea_b5ce_ace2d3694abdrow5_col2 {\n",
       "            background-color:  #5875e1;\n",
       "            color:  #000000;\n",
       "        }    #T_c8479609_e86b_11ea_b5ce_ace2d3694abdrow5_col3 {\n",
       "            background-color:  #f39475;\n",
       "            color:  #000000;\n",
       "        }    #T_c8479609_e86b_11ea_b5ce_ace2d3694abdrow5_col4 {\n",
       "            background-color:  #e36c55;\n",
       "            color:  #000000;\n",
       "        }    #T_c8479609_e86b_11ea_b5ce_ace2d3694abdrow5_col5 {\n",
       "            background-color:  #b40426;\n",
       "            color:  #f1f1f1;\n",
       "        }</style><table id=\"T_c8479609_e86b_11ea_b5ce_ace2d3694abd\" ><thead>    <tr>        <th class=\"blank level0\" ></th>        <th class=\"col_heading level0 col0\" >Year</th>        <th class=\"col_heading level0 col1\" >Kilometers_Driven</th>        <th class=\"col_heading level0 col2\" >Seats</th>        <th class=\"col_heading level0 col3\" >Price</th>        <th class=\"col_heading level0 col4\" >New_Engine</th>        <th class=\"col_heading level0 col5\" >New_Power</th>    </tr></thead><tbody>\n",
       "                <tr>\n",
       "                        <th id=\"T_c8479609_e86b_11ea_b5ce_ace2d3694abdlevel0_row0\" class=\"row_heading level0 row0\" >Year</th>\n",
       "                        <td id=\"T_c8479609_e86b_11ea_b5ce_ace2d3694abdrow0_col0\" class=\"data row0 col0\" >1.000000</td>\n",
       "                        <td id=\"T_c8479609_e86b_11ea_b5ce_ace2d3694abdrow0_col1\" class=\"data row0 col1\" >-0.173048</td>\n",
       "                        <td id=\"T_c8479609_e86b_11ea_b5ce_ace2d3694abdrow0_col2\" class=\"data row0 col2\" >0.012333</td>\n",
       "                        <td id=\"T_c8479609_e86b_11ea_b5ce_ace2d3694abdrow0_col3\" class=\"data row0 col3\" >0.305327</td>\n",
       "                        <td id=\"T_c8479609_e86b_11ea_b5ce_ace2d3694abdrow0_col4\" class=\"data row0 col4\" >-0.052197</td>\n",
       "                        <td id=\"T_c8479609_e86b_11ea_b5ce_ace2d3694abdrow0_col5\" class=\"data row0 col5\" >0.071181</td>\n",
       "            </tr>\n",
       "            <tr>\n",
       "                        <th id=\"T_c8479609_e86b_11ea_b5ce_ace2d3694abdlevel0_row1\" class=\"row_heading level0 row1\" >Kilometers_Driven</th>\n",
       "                        <td id=\"T_c8479609_e86b_11ea_b5ce_ace2d3694abdrow1_col0\" class=\"data row1 col0\" >-0.173048</td>\n",
       "                        <td id=\"T_c8479609_e86b_11ea_b5ce_ace2d3694abdrow1_col1\" class=\"data row1 col1\" >1.000000</td>\n",
       "                        <td id=\"T_c8479609_e86b_11ea_b5ce_ace2d3694abdrow1_col2\" class=\"data row1 col2\" >0.083113</td>\n",
       "                        <td id=\"T_c8479609_e86b_11ea_b5ce_ace2d3694abdrow1_col3\" class=\"data row1 col3\" >-0.011493</td>\n",
       "                        <td id=\"T_c8479609_e86b_11ea_b5ce_ace2d3694abdrow1_col4\" class=\"data row1 col4\" >0.091068</td>\n",
       "                        <td id=\"T_c8479609_e86b_11ea_b5ce_ace2d3694abdrow1_col5\" class=\"data row1 col5\" >0.024208</td>\n",
       "            </tr>\n",
       "            <tr>\n",
       "                        <th id=\"T_c8479609_e86b_11ea_b5ce_ace2d3694abdlevel0_row2\" class=\"row_heading level0 row2\" >Seats</th>\n",
       "                        <td id=\"T_c8479609_e86b_11ea_b5ce_ace2d3694abdrow2_col0\" class=\"data row2 col0\" >0.012333</td>\n",
       "                        <td id=\"T_c8479609_e86b_11ea_b5ce_ace2d3694abdrow2_col1\" class=\"data row2 col1\" >0.083113</td>\n",
       "                        <td id=\"T_c8479609_e86b_11ea_b5ce_ace2d3694abdrow2_col2\" class=\"data row2 col2\" >1.000000</td>\n",
       "                        <td id=\"T_c8479609_e86b_11ea_b5ce_ace2d3694abdrow2_col3\" class=\"data row2 col3\" >0.052225</td>\n",
       "                        <td id=\"T_c8479609_e86b_11ea_b5ce_ace2d3694abdrow2_col4\" class=\"data row2 col4\" >0.393337</td>\n",
       "                        <td id=\"T_c8479609_e86b_11ea_b5ce_ace2d3694abdrow2_col5\" class=\"data row2 col5\" >0.108730</td>\n",
       "            </tr>\n",
       "            <tr>\n",
       "                        <th id=\"T_c8479609_e86b_11ea_b5ce_ace2d3694abdlevel0_row3\" class=\"row_heading level0 row3\" >Price</th>\n",
       "                        <td id=\"T_c8479609_e86b_11ea_b5ce_ace2d3694abdrow3_col0\" class=\"data row3 col0\" >0.305327</td>\n",
       "                        <td id=\"T_c8479609_e86b_11ea_b5ce_ace2d3694abdrow3_col1\" class=\"data row3 col1\" >-0.011493</td>\n",
       "                        <td id=\"T_c8479609_e86b_11ea_b5ce_ace2d3694abdrow3_col2\" class=\"data row3 col2\" >0.052225</td>\n",
       "                        <td id=\"T_c8479609_e86b_11ea_b5ce_ace2d3694abdrow3_col3\" class=\"data row3 col3\" >1.000000</td>\n",
       "                        <td id=\"T_c8479609_e86b_11ea_b5ce_ace2d3694abdrow3_col4\" class=\"data row3 col4\" >0.658354</td>\n",
       "                        <td id=\"T_c8479609_e86b_11ea_b5ce_ace2d3694abdrow3_col5\" class=\"data row3 col5\" >0.759136</td>\n",
       "            </tr>\n",
       "            <tr>\n",
       "                        <th id=\"T_c8479609_e86b_11ea_b5ce_ace2d3694abdlevel0_row4\" class=\"row_heading level0 row4\" >New_Engine</th>\n",
       "                        <td id=\"T_c8479609_e86b_11ea_b5ce_ace2d3694abdrow4_col0\" class=\"data row4 col0\" >-0.052197</td>\n",
       "                        <td id=\"T_c8479609_e86b_11ea_b5ce_ace2d3694abdrow4_col1\" class=\"data row4 col1\" >0.091068</td>\n",
       "                        <td id=\"T_c8479609_e86b_11ea_b5ce_ace2d3694abdrow4_col2\" class=\"data row4 col2\" >0.393337</td>\n",
       "                        <td id=\"T_c8479609_e86b_11ea_b5ce_ace2d3694abdrow4_col3\" class=\"data row4 col3\" >0.658354</td>\n",
       "                        <td id=\"T_c8479609_e86b_11ea_b5ce_ace2d3694abdrow4_col4\" class=\"data row4 col4\" >1.000000</td>\n",
       "                        <td id=\"T_c8479609_e86b_11ea_b5ce_ace2d3694abdrow4_col5\" class=\"data row4 col5\" >0.840934</td>\n",
       "            </tr>\n",
       "            <tr>\n",
       "                        <th id=\"T_c8479609_e86b_11ea_b5ce_ace2d3694abdlevel0_row5\" class=\"row_heading level0 row5\" >New_Power</th>\n",
       "                        <td id=\"T_c8479609_e86b_11ea_b5ce_ace2d3694abdrow5_col0\" class=\"data row5 col0\" >0.071181</td>\n",
       "                        <td id=\"T_c8479609_e86b_11ea_b5ce_ace2d3694abdrow5_col1\" class=\"data row5 col1\" >0.024208</td>\n",
       "                        <td id=\"T_c8479609_e86b_11ea_b5ce_ace2d3694abdrow5_col2\" class=\"data row5 col2\" >0.108730</td>\n",
       "                        <td id=\"T_c8479609_e86b_11ea_b5ce_ace2d3694abdrow5_col3\" class=\"data row5 col3\" >0.759136</td>\n",
       "                        <td id=\"T_c8479609_e86b_11ea_b5ce_ace2d3694abdrow5_col4\" class=\"data row5 col4\" >0.840934</td>\n",
       "                        <td id=\"T_c8479609_e86b_11ea_b5ce_ace2d3694abdrow5_col5\" class=\"data row5 col5\" >1.000000</td>\n",
       "            </tr>\n",
       "    </tbody></table>"
      ],
      "text/plain": [
       "<pandas.io.formats.style.Styler at 0x2b0204d3c10>"
      ]
     },
     "execution_count": 24,
     "metadata": {},
     "output_type": "execute_result"
    }
   ],
   "source": [
    "df3.corr().style.background_gradient(cmap='coolwarm')"
   ]
  },
  {
   "cell_type": "markdown",
   "metadata": {},
   "source": [
    "Pada bagian B, telah dimanipulasi data pada kolom Engine dan Power dan dikonversi tipe datanya menjadi numerik. Hal ini akan memudahkan dalam melihat hubungan secara numerik antar kolom tersebut. Korelasi dapat digunakan untuk melihat hubungan antar beberapa kolom numerik. \n",
    "\n",
    "Kekuatan hubungan korelasi dapat dibedakan sebagai berikut.\n",
    "- 0           : Tidak ada korelasi\n",
    "- 0.00 - 0.25 : Korelasi sangat lemah\n",
    "- 0.25 - 0.50 : Korelasi cukup\n",
    "- 0.50 - 0.75 : Korelasi kuat\n",
    "- 0.75 - 0.99 : Korelasi sangat kuat\n",
    "- 1           : Korelasi sempurna\n",
    "\n",
    "Korelasi dapat menghasilkan nilai positif dan negatif. Jika korelasi menghasilkan nilai positif berarti terdapat hubungan searah yang artinya jika suatu variabel mengalami kenaikan maka variabel lain yang berhubungan akan mengalami kenaikan pula. Jika korelasi menghasilkan nilai negatif berarti terdapat hubungan berlawanan yang artinya jika suatu variabel mengalami kenaikan maka variabel lain yang berhubungan akan mengalami penurunan.\n",
    "\n",
    "Berdasarkan tabel korelasi, diketahui bahwa hubungan Price dengan Power dan Engine dengan Power berkorelasi positif sangat kuat. Hal ini menunjukkan bahwa terdapat hubungan searah antar variabel tersebut. Sementara itu, Year dengan Kilometers Driven dan Year dengan Engine berkorelasi negatif sangat lemah. Hal ini menunjukkan bahwa terdapat hubungan berlawanan antar variabel tersebut."
   ]
  },
  {
   "cell_type": "markdown",
   "metadata": {},
   "source": [
    "###### 8. Berapa banyak mobil yang merupakan kepemilikan ketiga atau lebih ?"
   ]
  },
  {
   "cell_type": "code",
   "execution_count": 25,
   "metadata": {},
   "outputs": [
    {
     "name": "stdout",
     "output_type": "stream",
     "text": [
      "Jumlah mobil yang merupakan kepemilikan ketiga atau lebih sebanyak 122 unit.\n"
     ]
    }
   ],
   "source": [
    "ot = df3[df3[\"Owner_Type\"]!=\"First\"]\n",
    "ot2 = ot[ot[\"Owner_Type\"]!=\"Second\"]\n",
    "print(\"Jumlah mobil yang merupakan kepemilikan ketiga atau lebih sebanyak {} unit.\".\n",
    "      format(ot2[\"Owner_Type\"].value_counts().sum()))"
   ]
  },
  {
   "cell_type": "markdown",
   "metadata": {},
   "source": [
    "###### 9. Tipe bahan bakar apa saja yang memiliki mileage paling hemat ?"
   ]
  },
  {
   "cell_type": "code",
   "execution_count": 26,
   "metadata": {},
   "outputs": [
    {
     "data": {
      "text/plain": [
       "array(['CNG', 'Diesel', 'Petrol', 'LPG', 'Electric'], dtype=object)"
      ]
     },
     "execution_count": 26,
     "metadata": {},
     "output_type": "execute_result"
    }
   ],
   "source": [
    "CNG = df3[df3[\"Fuel_Type\"]==\"CNG\"]\n",
    "Diesel = df3[df3[\"Fuel_Type\"]==\"Diesel\"]\n",
    "Petrol = df3[df3[\"Fuel_Type\"]==\"Petrol\"]\n",
    "LPG = df3[df3[\"Fuel_Type\"]==\"LPG\"]\n",
    "Electric = df3[df3[\"Fuel_Type\"]==\"ELectric\"]\n",
    "\n",
    "df3.Fuel_Type.unique()"
   ]
  },
  {
   "cell_type": "code",
   "execution_count": 27,
   "metadata": {},
   "outputs": [
    {
     "data": {
      "text/plain": [
       "count    56.000000\n",
       "mean     25.418036\n",
       "std       5.953456\n",
       "min      13.200000\n",
       "25%      22.100000\n",
       "50%      26.600000\n",
       "75%      27.737500\n",
       "max      33.540000\n",
       "Name: Mileage, dtype: float64"
      ]
     },
     "execution_count": 27,
     "metadata": {},
     "output_type": "execute_result"
    }
   ],
   "source": [
    "CNG1 = CNG[\"Mileage\"].str.replace(\"km/kg\", \"\")\n",
    "CNG2 = CNG1.astype(float)\n",
    "CNG2.describe()"
   ]
  },
  {
   "cell_type": "code",
   "execution_count": 28,
   "metadata": {},
   "outputs": [
    {
     "data": {
      "text/plain": [
       "count    3205.000000\n",
       "mean       18.620484\n",
       "std         4.962370\n",
       "min         0.000000\n",
       "25%        14.840000\n",
       "50%        19.010000\n",
       "75%        22.690000\n",
       "max        28.400000\n",
       "Name: Mileage, dtype: float64"
      ]
     },
     "execution_count": 28,
     "metadata": {},
     "output_type": "execute_result"
    }
   ],
   "source": [
    "Diesel1 = Diesel[\"Mileage\"].str.replace(\"kmpl\", \"\")\n",
    "Diesel2 = Diesel1.astype(float)\n",
    "Diesel2.describe()"
   ]
  },
  {
   "cell_type": "code",
   "execution_count": 29,
   "metadata": {},
   "outputs": [
    {
     "data": {
      "text/plain": [
       "count    10.000000\n",
       "mean     19.385000\n",
       "std       5.340363\n",
       "min      13.450000\n",
       "25%      14.412500\n",
       "50%      18.250000\n",
       "75%      24.925000\n",
       "max      26.200000\n",
       "Name: Mileage, dtype: float64"
      ]
     },
     "execution_count": 29,
     "metadata": {},
     "output_type": "execute_result"
    }
   ],
   "source": [
    "LPG1 = LPG[\"Mileage\"].str.replace(\"km/kg\", \"\")\n",
    "LPG2 = LPG1.astype(float)\n",
    "LPG2.describe()"
   ]
  },
  {
   "cell_type": "code",
   "execution_count": 30,
   "metadata": {},
   "outputs": [
    {
     "data": {
      "text/plain": [
       "count    2746.000000\n",
       "mean       17.415204\n",
       "std         3.819760\n",
       "min         0.000000\n",
       "25%        15.640000\n",
       "50%        17.800000\n",
       "75%        19.400000\n",
       "max        26.000000\n",
       "Name: Mileage, dtype: float64"
      ]
     },
     "execution_count": 30,
     "metadata": {},
     "output_type": "execute_result"
    }
   ],
   "source": [
    "Petrol1 = Petrol[\"Mileage\"].str.replace(\"kmpl\", \"\")\n",
    "Petrol2 = Petrol1.astype(float)\n",
    "Petrol2.describe()"
   ]
  },
  {
   "cell_type": "code",
   "execution_count": 31,
   "metadata": {},
   "outputs": [
    {
     "data": {
      "text/html": [
       "<div>\n",
       "<style scoped>\n",
       "    .dataframe tbody tr th:only-of-type {\n",
       "        vertical-align: middle;\n",
       "    }\n",
       "\n",
       "    .dataframe tbody tr th {\n",
       "        vertical-align: top;\n",
       "    }\n",
       "\n",
       "    .dataframe thead th {\n",
       "        text-align: right;\n",
       "    }\n",
       "</style>\n",
       "<table border=\"1\" class=\"dataframe\">\n",
       "  <thead>\n",
       "    <tr style=\"text-align: right;\">\n",
       "      <th></th>\n",
       "      <th>Year</th>\n",
       "      <th>Kilometers_Driven</th>\n",
       "      <th>Seats</th>\n",
       "      <th>Price</th>\n",
       "      <th>New_Engine</th>\n",
       "      <th>New_Power</th>\n",
       "    </tr>\n",
       "  </thead>\n",
       "  <tbody>\n",
       "    <tr>\n",
       "      <th>count</th>\n",
       "      <td>0.0</td>\n",
       "      <td>0.0</td>\n",
       "      <td>0.0</td>\n",
       "      <td>0.0</td>\n",
       "      <td>0.0</td>\n",
       "      <td>0.0</td>\n",
       "    </tr>\n",
       "    <tr>\n",
       "      <th>mean</th>\n",
       "      <td>NaN</td>\n",
       "      <td>NaN</td>\n",
       "      <td>NaN</td>\n",
       "      <td>NaN</td>\n",
       "      <td>NaN</td>\n",
       "      <td>NaN</td>\n",
       "    </tr>\n",
       "    <tr>\n",
       "      <th>std</th>\n",
       "      <td>NaN</td>\n",
       "      <td>NaN</td>\n",
       "      <td>NaN</td>\n",
       "      <td>NaN</td>\n",
       "      <td>NaN</td>\n",
       "      <td>NaN</td>\n",
       "    </tr>\n",
       "    <tr>\n",
       "      <th>min</th>\n",
       "      <td>NaN</td>\n",
       "      <td>NaN</td>\n",
       "      <td>NaN</td>\n",
       "      <td>NaN</td>\n",
       "      <td>NaN</td>\n",
       "      <td>NaN</td>\n",
       "    </tr>\n",
       "    <tr>\n",
       "      <th>25%</th>\n",
       "      <td>NaN</td>\n",
       "      <td>NaN</td>\n",
       "      <td>NaN</td>\n",
       "      <td>NaN</td>\n",
       "      <td>NaN</td>\n",
       "      <td>NaN</td>\n",
       "    </tr>\n",
       "    <tr>\n",
       "      <th>50%</th>\n",
       "      <td>NaN</td>\n",
       "      <td>NaN</td>\n",
       "      <td>NaN</td>\n",
       "      <td>NaN</td>\n",
       "      <td>NaN</td>\n",
       "      <td>NaN</td>\n",
       "    </tr>\n",
       "    <tr>\n",
       "      <th>75%</th>\n",
       "      <td>NaN</td>\n",
       "      <td>NaN</td>\n",
       "      <td>NaN</td>\n",
       "      <td>NaN</td>\n",
       "      <td>NaN</td>\n",
       "      <td>NaN</td>\n",
       "    </tr>\n",
       "    <tr>\n",
       "      <th>max</th>\n",
       "      <td>NaN</td>\n",
       "      <td>NaN</td>\n",
       "      <td>NaN</td>\n",
       "      <td>NaN</td>\n",
       "      <td>NaN</td>\n",
       "      <td>NaN</td>\n",
       "    </tr>\n",
       "  </tbody>\n",
       "</table>\n",
       "</div>"
      ],
      "text/plain": [
       "       Year  Kilometers_Driven  Seats  Price  New_Engine  New_Power\n",
       "count   0.0                0.0    0.0    0.0         0.0        0.0\n",
       "mean    NaN                NaN    NaN    NaN         NaN        NaN\n",
       "std     NaN                NaN    NaN    NaN         NaN        NaN\n",
       "min     NaN                NaN    NaN    NaN         NaN        NaN\n",
       "25%     NaN                NaN    NaN    NaN         NaN        NaN\n",
       "50%     NaN                NaN    NaN    NaN         NaN        NaN\n",
       "75%     NaN                NaN    NaN    NaN         NaN        NaN\n",
       "max     NaN                NaN    NaN    NaN         NaN        NaN"
      ]
     },
     "execution_count": 31,
     "metadata": {},
     "output_type": "execute_result"
    }
   ],
   "source": [
    "Electric.describe()"
   ]
  },
  {
   "cell_type": "markdown",
   "metadata": {},
   "source": [
    "Dapat dilihat terdapat 3 jenis bahan bakar pada mobil bekas sebagai berikut.\n",
    "- Minyak : Diesel dan Petrol\n",
    "- Gas : CNG dan LPG\n",
    "- Listrik : Electric\n",
    "\n",
    "Rata-rata pemakaian dari bahan bakar tersebut sebagai berikut.\n",
    "- Diesel : 18.620484 kmpl\n",
    "- Petrol : 17.415204 kmpl\n",
    "- CNG : 25.418036 km/kg\n",
    "- LPG : 19.385000 km/kg\n",
    "- Electric : NaN\n",
    "\n",
    "Sekilas jika membandingkan antara kelima bahan bakar diatas, terlihat bahwa pemakaian bahan bakar Petrol lebih hemat karena hanya mengonsumsi 17.415204 kmpl. Jika dibandingkan antara jenis minyak dan gas maka jenis minyak lebih hemat karena konsumsi bahan bakarnya lebih rendah dari jenis gas. \n",
    "\n",
    "Mengutip dari situs https://m.merdeka.com, menurut Wakil Direktur Utama PT Perusahaan Listrik Negara (PLN), untuk rata-rata mobil saat ini membutuhkan 1 liter BBM untuk jarak tempuh 10 km. Dimana harga bensin dan solar non subsidi sebesar Rp. 9.500 per liter, sehingga untuk jarak tempuh 10 km mobil membutuhkan biaya Rp. 9.500.\n",
    "\n",
    "Sementara untuk jarak yang sama, mobil listrik hanya memperlakukan daya listrik sebesar 2 kilo watt hour (kWh) dimana tarif PLN sebesar Rp. 1.467 per kWh sehingga mobil listrik hanya membutuhkan biaya sebesar Rp. 2.934 per 10 km atau sekitar Rp. 3.000 per 10 km.\n",
    "\n",
    "Sedemikian sehingga, jika ditarik kesimpulan maka mobil dengan bahan bakar listrik lebih hemat daripada bahan bakar minyak dan gas."
   ]
  },
  {
   "cell_type": "markdown",
   "metadata": {},
   "source": [
    "###### 10. Bagaimana  perbandingan 5 merek mobil bekas terbanyak dari tahun ke tahun ?"
   ]
  },
  {
   "cell_type": "code",
   "execution_count": 32,
   "metadata": {},
   "outputs": [
    {
     "data": {
      "text/plain": [
       "array([2010, 2015, 2011, 2012, 2013, 2016, 2018, 2014, 2017, 2007, 2009,\n",
       "       2008, 2019, 2006, 2005, 2004, 2002, 2000, 2003, 1999, 2001, 1998],\n",
       "      dtype=int64)"
      ]
     },
     "execution_count": 32,
     "metadata": {},
     "output_type": "execute_result"
    }
   ],
   "source": [
    "df3[\"Year\"].unique()"
   ]
  },
  {
   "cell_type": "code",
   "execution_count": 33,
   "metadata": {},
   "outputs": [],
   "source": [
    "maruti = df3[df3['Name'].str.match('^Maruti.*')== True]\n",
    "maruti1 = maruti[[\"Name\",\"Year\"]]\n",
    "hyundai = df3[df3['Name'].str.match('^Hyundai.*')== True]\n",
    "hyundai1 = hyundai[[\"Name\",\"Year\"]]\n",
    "honda = df3[df3['Name'].str.match('^Honda.*')== True]\n",
    "honda1 = honda[[\"Name\",\"Year\"]]\n",
    "toyota = df3[df3['Name'].str.match('^Toyota.*')== True]\n",
    "toyota1 = toyota[[\"Name\",\"Year\"]]\n",
    "mercedez = df3[df3['Name'].str.match('^Mercedez-Benz.*')== True]\n",
    "mercedez1 = mercedez[[\"Name\",\"Year\"]]"
   ]
  },
  {
   "cell_type": "code",
   "execution_count": 34,
   "metadata": {},
   "outputs": [],
   "source": [
    "mar = maruti1['Year'].value_counts()\n",
    "hyu = hyundai1['Year'].value_counts()\n",
    "hon = honda1['Year'].value_counts()\n",
    "toy = toyota1['Year'].value_counts()\n",
    "mer = mercedez1['Year'].value_counts()\n",
    "data = pd.DataFrame({\"Maruti\":mar,\"Hyundai\":hyu,\"Honda\":hon,\"Toyota\":toy,\"Mercedez\":mer}).reset_index().sort_values(by=\"index\")\n",
    "dataa = data.rename(columns={\"index\":\"Tahun\"})"
   ]
  },
  {
   "cell_type": "code",
   "execution_count": 35,
   "metadata": {},
   "outputs": [
    {
     "data": {
      "image/png": "[encoded data removed]",
      "text/plain": [
       "<Figure size 864x432 with 1 Axes>"
      ]
     },
     "metadata": {},
     "output_type": "display_data"
    }
   ],
   "source": [
    "fig, b = plt.subplots(1,1, figsize=(12, 6))\n",
    "fig.suptitle(\"Distribusi 5 Merek Mobil Bekas Terbanyak dari Tahun ke Tahun\", \n",
    "             x=0.028, y=1.05, fontsize=19, fontweight='bold', ha=\"left\", color = \"black\")\n",
    "\n",
    "colors = [\"red\", \"green\", \"magenta\", \"orange\", \"blue\"]\n",
    "line_widths = [ 3, 3, 3, 3, 3]\n",
    "bue = range(0,200,25)\n",
    "lp = dataa[[\"Maruti\",\"Hyundai\",\"Honda\",\"Toyota\",\"Mercedez\"]].plot(kind=\"line\", ax=b, \n",
    "                 color=colors, fontsize = 14, xticks=range(dataa.shape[0]))\n",
    "b.set_xticklabels(list(dataa.Tahun), color = \"black\", fontweight='bold', rotation = 90)\n",
    "b.set_xlabel(\"\\n Tahun\", fontsize = 14)\n",
    "b.set_ylabel(\"Jumlah Mobil Bekas\\n\", fontsize=14)\n",
    "b.spines[\"top\"].set_color(\"none\")\n",
    "b.spines[\"right\"].set_color(\"none\")\n",
    "b.spines[\"bottom\"].set_color(\"none\")\n",
    "b.set_frame_on(False) #grid\n",
    "fig.patch.set_facecolor('lightgrey')\n",
    "plt.show()"
   ]
  },
  {
   "cell_type": "markdown",
   "metadata": {},
   "source": [
    "###### 11. Bagaimana perbandingan 5 kota dengan mobil bekas terbanyak dari tahun ke tahun ?"
   ]
  },
  {
   "cell_type": "code",
   "execution_count": 36,
   "metadata": {},
   "outputs": [],
   "source": [
    "mumbai = df3[df3[\"Location\"].str.match('^Mumbai.*')== True]\n",
    "mumbai1 = mumbai[[\"Location\",\"Year\"]]\n",
    "hyderabad = df3[df3[\"Location\"].str.match('^Hyderabad.*')== True]\n",
    "hyderabad1 = hyderabad[[\"Location\",\"Year\"]]\n",
    "kochi = df3[df3[\"Location\"].str.match('^Kochi.*')== True]\n",
    "kochi1 = kochi[[\"Location\",\"Year\"]]\n",
    "coimbatore = df3[df3[\"Location\"].str.match('^Coimbatore.*')== True]\n",
    "coimbatore1 = coimbatore[[\"Location\",\"Year\"]]\n",
    "pune= df3[df3[\"Location\"].str.match('^Pune.*')== True]\n",
    "pune1 = pune[[\"Location\",\"Year\"]]"
   ]
  },
  {
   "cell_type": "code",
   "execution_count": 37,
   "metadata": {
    "scrolled": false
   },
   "outputs": [],
   "source": [
    "mum = mumbai1['Year'].value_counts()\n",
    "hyd = hyderabad1['Year'].value_counts()\n",
    "koc = kochi1['Year'].value_counts()\n",
    "coi = coimbatore1['Year'].value_counts()\n",
    "pun = pune1['Year'].value_counts()\n",
    "data2 = pd.DataFrame({\"Mumbai\":mum,\"Hyderabad\":hyd,\"Kochi\":koc,\"Coimbatore\":coi,\"Pune\":pun}).reset_index().sort_values(by=\"index\")\n",
    "data2a = data2.rename(columns={\"index\":\"Tahun\"})"
   ]
  },
  {
   "cell_type": "code",
   "execution_count": 38,
   "metadata": {},
   "outputs": [
    {
     "data": {
      "image/png": "[encoded data removed]",
      "text/plain": [
       "<Figure size 864x432 with 1 Axes>"
      ]
     },
     "metadata": {},
     "output_type": "display_data"
    }
   ],
   "source": [
    "fig, c = plt.subplots(1,1, figsize=(12, 6))\n",
    "fig.suptitle(\"Distribusi 5 Kota dengan Mobil Bekas Terbanyak dari Tahun ke Tahun\", \n",
    "             x=0.028, y=1.05, fontsize=19, fontweight='bold', ha=\"left\", color = \"black\")\n",
    "\n",
    "colors = [\"red\", \"green\", \"magenta\", \"orange\", \"blue\"]\n",
    "line_widths = [ 3, 3, 3, 3, 3]\n",
    "bue = range(0,200,25)\n",
    "lp = data2a[[\"Mumbai\",\"Hyderabad\",\"Kochi\",\"Coimbatore\",\"Pune\"]].plot(kind=\"line\", ax=c, \n",
    "                 color=colors, fontsize = 14, xticks=range(data2a.shape[0]))\n",
    "c.set_xticklabels(list(data2a.Tahun), color = \"black\", fontweight='bold', rotation = 90)\n",
    "c.set_xlabel(\"\\n Tahun\", fontsize = 14)\n",
    "c.set_ylabel(\"Jumlah Mobil Bekas\\n\", fontsize=14)\n",
    "c.spines[\"top\"].set_color(\"none\")\n",
    "c.spines[\"right\"].set_color(\"none\")\n",
    "c.spines[\"bottom\"].set_color(\"none\")\n",
    "c.set_frame_on(False) #grid\n",
    "fig.patch.set_facecolor('lightgrey')\n",
    "plt.show()"
   ]
  },
  {
   "cell_type": "markdown",
   "metadata": {},
   "source": [
    "###### 12. Bagaimana Hubungan Jenis Transmisi dengan Tipe Kepemilikan ?"
   ]
  },
  {
   "cell_type": "code",
   "execution_count": 39,
   "metadata": {},
   "outputs": [],
   "source": [
    "manual = df3[df3[\"Transmission\"].str.match('^Manual.*')== True]\n",
    "manual1 = manual[[\"Transmission\",\"Owner_Type\"]]\n",
    "automatic = df3[df3[\"Transmission\"].str.match('^Automatic.*')== True]\n",
    "automatic1 = automatic[[\"Transmission\",\"Owner_Type\"]]"
   ]
  },
  {
   "cell_type": "code",
   "execution_count": 40,
   "metadata": {
    "scrolled": true
   },
   "outputs": [
    {
     "data": {
      "text/html": [
       "<div>\n",
       "<style scoped>\n",
       "    .dataframe tbody tr th:only-of-type {\n",
       "        vertical-align: middle;\n",
       "    }\n",
       "\n",
       "    .dataframe tbody tr th {\n",
       "        vertical-align: top;\n",
       "    }\n",
       "\n",
       "    .dataframe thead th {\n",
       "        text-align: right;\n",
       "    }\n",
       "</style>\n",
       "<table border=\"1\" class=\"dataframe\">\n",
       "  <thead>\n",
       "    <tr style=\"text-align: right;\">\n",
       "      <th></th>\n",
       "      <th>Owner Type</th>\n",
       "      <th>Manual</th>\n",
       "      <th>Automatic</th>\n",
       "    </tr>\n",
       "  </thead>\n",
       "  <tbody>\n",
       "    <tr>\n",
       "      <th>0</th>\n",
       "      <td>First</td>\n",
       "      <td>3520</td>\n",
       "      <td>1409</td>\n",
       "    </tr>\n",
       "    <tr>\n",
       "      <th>1</th>\n",
       "      <td>Second</td>\n",
       "      <td>683</td>\n",
       "      <td>285</td>\n",
       "    </tr>\n",
       "    <tr>\n",
       "      <th>2</th>\n",
       "      <td>Third</td>\n",
       "      <td>88</td>\n",
       "      <td>25</td>\n",
       "    </tr>\n",
       "    <tr>\n",
       "      <th>3</th>\n",
       "      <td>Fourth &amp; Above</td>\n",
       "      <td>8</td>\n",
       "      <td>1</td>\n",
       "    </tr>\n",
       "  </tbody>\n",
       "</table>\n",
       "</div>"
      ],
      "text/plain": [
       "       Owner Type  Manual  Automatic\n",
       "0           First    3520       1409\n",
       "1          Second     683        285\n",
       "2           Third      88         25\n",
       "3  Fourth & Above       8          1"
      ]
     },
     "execution_count": 40,
     "metadata": {},
     "output_type": "execute_result"
    }
   ],
   "source": [
    "man = manual1['Owner_Type'].value_counts()\n",
    "aut = automatic1['Owner_Type'].value_counts()\n",
    "data3 = pd.DataFrame({\"Manual\":man,\"Automatic\":aut}).reset_index().sort_values(by=\"Manual\", ascending = False)\n",
    "data3a = data3.rename(columns={\"index\":\"Owner Type\"})\n",
    "data3a"
   ]
  },
  {
   "cell_type": "code",
   "execution_count": 41,
   "metadata": {},
   "outputs": [
    {
     "data": {
      "image/png": "[encoded data removed]",
      "text/plain": [
       "<Figure size 1152x432 with 1 Axes>"
      ]
     },
     "metadata": {},
     "output_type": "display_data"
    },
    {
     "name": "stdout",
     "output_type": "stream",
     "text": [
      "Deskripsi Jenis Kepemilikan Keempat dan Diatasnya\n"
     ]
    },
    {
     "data": {
      "text/html": [
       "<div>\n",
       "<style scoped>\n",
       "    .dataframe tbody tr th:only-of-type {\n",
       "        vertical-align: middle;\n",
       "    }\n",
       "\n",
       "    .dataframe tbody tr th {\n",
       "        vertical-align: top;\n",
       "    }\n",
       "\n",
       "    .dataframe thead th {\n",
       "        text-align: right;\n",
       "    }\n",
       "</style>\n",
       "<table border=\"1\" class=\"dataframe\">\n",
       "  <thead>\n",
       "    <tr style=\"text-align: right;\">\n",
       "      <th></th>\n",
       "      <th>Year</th>\n",
       "      <th>Kilometers_Driven</th>\n",
       "      <th>Seats</th>\n",
       "      <th>Price</th>\n",
       "      <th>New_Engine</th>\n",
       "      <th>New_Power</th>\n",
       "    </tr>\n",
       "  </thead>\n",
       "  <tbody>\n",
       "    <tr>\n",
       "      <th>count</th>\n",
       "      <td>9.000000</td>\n",
       "      <td>9.000000</td>\n",
       "      <td>8.00000</td>\n",
       "      <td>9.000000</td>\n",
       "      <td>8.000000</td>\n",
       "      <td>8.000000</td>\n",
       "    </tr>\n",
       "    <tr>\n",
       "      <th>mean</th>\n",
       "      <td>2006.777778</td>\n",
       "      <td>135759.222222</td>\n",
       "      <td>6.25000</td>\n",
       "      <td>3.280000</td>\n",
       "      <td>1959.000000</td>\n",
       "      <td>91.937500</td>\n",
       "    </tr>\n",
       "    <tr>\n",
       "      <th>std</th>\n",
       "      <td>2.635231</td>\n",
       "      <td>83106.024243</td>\n",
       "      <td>1.38873</td>\n",
       "      <td>1.316378</td>\n",
       "      <td>612.288447</td>\n",
       "      <td>49.705157</td>\n",
       "    </tr>\n",
       "    <tr>\n",
       "      <th>min</th>\n",
       "      <td>2001.000000</td>\n",
       "      <td>59833.000000</td>\n",
       "      <td>5.00000</td>\n",
       "      <td>1.970000</td>\n",
       "      <td>1197.000000</td>\n",
       "      <td>0.000000</td>\n",
       "    </tr>\n",
       "    <tr>\n",
       "      <th>25%</th>\n",
       "      <td>2006.000000</td>\n",
       "      <td>77000.000000</td>\n",
       "      <td>5.00000</td>\n",
       "      <td>2.200000</td>\n",
       "      <td>1286.250000</td>\n",
       "      <td>73.750000</td>\n",
       "    </tr>\n",
       "    <tr>\n",
       "      <th>50%</th>\n",
       "      <td>2007.000000</td>\n",
       "      <td>90000.000000</td>\n",
       "      <td>6.00000</td>\n",
       "      <td>3.000000</td>\n",
       "      <td>2220.500000</td>\n",
       "      <td>91.000000</td>\n",
       "    </tr>\n",
       "    <tr>\n",
       "      <th>75%</th>\n",
       "      <td>2008.000000</td>\n",
       "      <td>227000.000000</td>\n",
       "      <td>7.25000</td>\n",
       "      <td>4.000000</td>\n",
       "      <td>2494.000000</td>\n",
       "      <td>112.250000</td>\n",
       "    </tr>\n",
       "    <tr>\n",
       "      <th>max</th>\n",
       "      <td>2010.000000</td>\n",
       "      <td>262000.000000</td>\n",
       "      <td>8.00000</td>\n",
       "      <td>5.500000</td>\n",
       "      <td>2499.000000</td>\n",
       "      <td>163.500000</td>\n",
       "    </tr>\n",
       "  </tbody>\n",
       "</table>\n",
       "</div>"
      ],
      "text/plain": [
       "              Year  Kilometers_Driven    Seats     Price   New_Engine  \\\n",
       "count     9.000000           9.000000  8.00000  9.000000     8.000000   \n",
       "mean   2006.777778      135759.222222  6.25000  3.280000  1959.000000   \n",
       "std       2.635231       83106.024243  1.38873  1.316378   612.288447   \n",
       "min    2001.000000       59833.000000  5.00000  1.970000  1197.000000   \n",
       "25%    2006.000000       77000.000000  5.00000  2.200000  1286.250000   \n",
       "50%    2007.000000       90000.000000  6.00000  3.000000  2220.500000   \n",
       "75%    2008.000000      227000.000000  7.25000  4.000000  2494.000000   \n",
       "max    2010.000000      262000.000000  8.00000  5.500000  2499.000000   \n",
       "\n",
       "        New_Power  \n",
       "count    8.000000  \n",
       "mean    91.937500  \n",
       "std     49.705157  \n",
       "min      0.000000  \n",
       "25%     73.750000  \n",
       "50%     91.000000  \n",
       "75%    112.250000  \n",
       "max    163.500000  "
      ]
     },
     "execution_count": 41,
     "metadata": {},
     "output_type": "execute_result"
    }
   ],
   "source": [
    "fig, c = plt.subplots(1,1, figsize=(16, 6))\n",
    "fig.suptitle(\"Hubungan Jenis Transmisi dengan Tipe Kepemilikan dengan Bar Chart\", \n",
    "             x=0., y=1.1, fontsize=24, fontweight='bold', ha=\"left\", color = \"black\")\n",
    "\n",
    "y1 = data3a[[\"Manual\",\"Automatic\"]].plot(kind=\"bar\", ax = c,\n",
    "                                        color=(\"blue\", \"magenta\"), xlim=[0,4000], fontsize = 14)\n",
    "for p1 in y1.patches:\n",
    "    y1.annotate(format(p1.get_height()), \n",
    "                   (p1.get_x() + p1.get_width() / 2., p1.get_height()), \n",
    "                   ha = 'center', va = 'center', \n",
    "                   xytext = (0, 9), \n",
    "                   textcoords = 'offset points', color = \"black\", fontweight = 'bold', fontsize=16)\n",
    "c.set_xticklabels(list(data3a[\"Owner Type\"]), color = \"black\", fontweight='bold', rotation = 0)\n",
    "c.set_frame_on(False) #grid\n",
    "c.set_ylabel(\"Jumlah Kepemilikan \\n\", fontsize = 20)\n",
    "c.set_xlabel(\"\\n Owner Type\", fontsize = 20)\n",
    "fig.patch.set_facecolor('lightgrey')\n",
    "c.legend(fontsize=17)\n",
    "plt.show()\n",
    "print(\"Deskripsi Jenis Kepemilikan Keempat dan Diatasnya\")\n",
    "df3[df3[\"Owner_Type\"]==\"Fourth & Above\"].describe()"
   ]
  },
  {
   "cell_type": "markdown",
   "metadata": {},
   "source": [
    "Terlihat bahwa mobil bekas dengan tipe kepemilikan pertama tersedia lebih banyak dan sebaliknya tipe kepemilikan keempat sangat sedikit bahkan untuk transmisi automatic hanya 1 unit. Hal ini disebabkan terlalu seringnya pemakaian mobil bekas tersebut. Hal tersebut dapat dilihat bahwa Kilometers Driven minimum menyentuh angka 59.833 km dan termasuk ke dalam kategori pemakaian tinggi."
   ]
  },
  {
   "cell_type": "markdown",
   "metadata": {},
   "source": [
    "###### 13. Apa saja faktor-faktor yang mempengaruhi harga mobil bekas di India ?\n",
    "Untuk mengetahui faktor-faktor yang berpengaruh terhadap harga mobil (Price) dapat menggunakan algoritma regresi linear. Sebelumnya, terlihat bahwa terdapat korelasi positif antara Price dengan Engine dan Price dengan Power. Diduga Engine dan Power mempengaruhi Price mobil bekas di India. Maka dari itu akan dianalisis apakah Engine dan Power mempengaruhi Price pada mobil bekas di India.\n",
    "\n",
    "Dalam analisis ini, akan menggunakan dataframe yang telah dimanipulasi sebelumnya. Namun masih terdapat missing data didalamnya dan akan dilakukan data cleansing. "
   ]
  },
  {
   "cell_type": "markdown",
   "metadata": {},
   "source": [
    "###### Data Cleansing\n",
    "1. Mengisi missing value dengan median\n",
    "2. Mengatasi outlier dengan menghilangkan data outlier"
   ]
  },
  {
   "cell_type": "code",
   "execution_count": 42,
   "metadata": {
    "scrolled": true
   },
   "outputs": [
    {
     "name": "stderr",
     "output_type": "stream",
     "text": [
      "C:\\Users\\Julz\\anaconda3\\lib\\site-packages\\pandas\\core\\generic.py:6245: SettingWithCopyWarning: \n",
      "A value is trying to be set on a copy of a slice from a DataFrame\n",
      "\n",
      "See the caveats in the documentation: https://pandas.pydata.org/pandas-docs/stable/user_guide/indexing.html#returning-a-view-versus-a-copy\n",
      "  self._update_inplace(new_data)\n"
     ]
    },
    {
     "name": "stdout",
     "output_type": "stream",
     "text": [
      "<class 'pandas.core.frame.DataFrame'>\n",
      "Int64Index: 6019 entries, 0 to 6018\n",
      "Data columns (total 3 columns):\n",
      " #   Column  Non-Null Count  Dtype  \n",
      "---  ------  --------------  -----  \n",
      " 0   Price   6019 non-null   float64\n",
      " 1   Engine  6019 non-null   float64\n",
      " 2   Power   6019 non-null   float64\n",
      "dtypes: float64(3)\n",
      "memory usage: 188.1 KB\n"
     ]
    },
    {
     "data": {
      "text/plain": [
       "(             Price       Engine        Power\n",
       " count  6019.000000  6019.000000  6019.000000\n",
       " mean      7.708463  1612.647782   109.315434\n",
       " std       5.769853   568.865725    48.910594\n",
       " min       0.440000    72.000000     0.000000\n",
       " 25%       3.500000  1198.000000    74.000000\n",
       " 50%       5.640000  1493.000000    92.700000\n",
       " 75%       9.950000  1969.000000   138.030000\n",
       " max      19.625000  3163.000000   234.250000,\n",
       " None)"
      ]
     },
     "execution_count": 42,
     "metadata": {},
     "output_type": "execute_result"
    }
   ],
   "source": [
    "# Mengatasi missing value\n",
    "df4 = df3[[\"Price\", \"New_Engine\", \"New_Power\"]]\n",
    "for col in list(df4.columns):\n",
    "    med = df4[col].median()\n",
    "    df4[col].fillna(med, inplace = True)\n",
    "\n",
    "# Mengatasi outlier\n",
    "man_pri = df4[\"Price\"].mask(df4[\"Price\"] > out5b_price, out5b_price)\n",
    "man_en = df4[\"New_Engine\"].mask(df4[\"New_Engine\"] > out5b_en, out5b_en)\n",
    "man_po = df4[\"New_Power\"].mask(df4[\"New_Power\"] > out5b_po, out5b_po)\n",
    "\n",
    "data_man = pd.DataFrame({\"Price\":man_pri,\"Engine\":man_en,\"Power\":man_po})\n",
    "df4a = df4.drop(columns ={\"New_Engine\",\"New_Power\",\"Price\"})\n",
    "df4b = df4a.join(data_man)\n",
    "df5 = df4b.dropna()\n",
    "df5.describe(), df5.info()"
   ]
  },
  {
   "cell_type": "markdown",
   "metadata": {},
   "source": [
    "###### Exploratory Data Analysis"
   ]
  },
  {
   "cell_type": "code",
   "execution_count": 43,
   "metadata": {
    "scrolled": true
   },
   "outputs": [
    {
     "name": "stdout",
     "output_type": "stream",
     "text": [
      "Figure(432x288) Figure(432x288) Figure(432x288)\n"
     ]
    },
    {
     "data": {
      "image/png": "[encoded data removed]",
      "text/plain": [
       "<Figure size 432x288 with 1 Axes>"
      ]
     },
     "metadata": {
      "needs_background": "light"
     },
     "output_type": "display_data"
    },
    {
     "data": {
      "image/png": "[encoded data removed]",
      "text/plain": [
       "<Figure size 432x288 with 1 Axes>"
      ]
     },
     "metadata": {
      "needs_background": "light"
     },
     "output_type": "display_data"
    },
    {
     "data": {
      "image/png": "[encoded data removed]",
      "text/plain": [
       "<Figure size 432x288 with 1 Axes>"
      ]
     },
     "metadata": {
      "needs_background": "light"
     },
     "output_type": "display_data"
    }
   ],
   "source": [
    "print(qqplot(df5[\"Price\"], line='s'), qqplot(df5[\"Engine\"], line='s'), qqplot(df5[\"Power\"], line='s'))"
   ]
  },
  {
   "cell_type": "markdown",
   "metadata": {},
   "source": [
    "Berdasarkan QQPlot, terlihat bahwa terjadi penyimpangan sangat nyata pada Price, Engine, dan Power. Hal ini mengindikasikan bahwa data tidak berdistribusi normal. Maka dari itu, data akan ditransformasi dengan StandardScaler pada Skelarn."
   ]
  },
  {
   "cell_type": "markdown",
   "metadata": {},
   "source": [
    "###### Data Preprocessing"
   ]
  },
  {
   "cell_type": "code",
   "execution_count": 44,
   "metadata": {},
   "outputs": [
    {
     "data": {
      "text/html": [
       "<table class=\"simpletable\">\n",
       "<caption>OLS Regression Results</caption>\n",
       "<tr>\n",
       "  <th>Dep. Variable:</th>          <td>Price</td>      <th>  R-squared:         </th> <td>   0.649</td> \n",
       "</tr>\n",
       "<tr>\n",
       "  <th>Model:</th>                   <td>OLS</td>       <th>  Adj. R-squared:    </th> <td>   0.648</td> \n",
       "</tr>\n",
       "<tr>\n",
       "  <th>Method:</th>             <td>Least Squares</td>  <th>  F-statistic:       </th> <td>   5552.</td> \n",
       "</tr>\n",
       "<tr>\n",
       "  <th>Date:</th>             <td>Thu, 27 Aug 2020</td> <th>  Prob (F-statistic):</th>  <td>  0.00</td>  \n",
       "</tr>\n",
       "<tr>\n",
       "  <th>Time:</th>                 <td>20:47:14</td>     <th>  Log-Likelihood:    </th> <td> -5393.1</td> \n",
       "</tr>\n",
       "<tr>\n",
       "  <th>No. Observations:</th>      <td>  6019</td>      <th>  AIC:               </th> <td>1.079e+04</td>\n",
       "</tr>\n",
       "<tr>\n",
       "  <th>Df Residuals:</th>          <td>  6016</td>      <th>  BIC:               </th> <td>1.081e+04</td>\n",
       "</tr>\n",
       "<tr>\n",
       "  <th>Df Model:</th>              <td>     2</td>      <th>                     </th>     <td> </td>    \n",
       "</tr>\n",
       "<tr>\n",
       "  <th>Covariance Type:</th>      <td>nonrobust</td>    <th>                     </th>     <td> </td>    \n",
       "</tr>\n",
       "</table>\n",
       "<table class=\"simpletable\">\n",
       "<tr>\n",
       "     <td></td>       <th>coef</th>     <th>std err</th>      <th>t</th>      <th>P>|t|</th>  <th>[0.025</th>    <th>0.975]</th>  \n",
       "</tr>\n",
       "<tr>\n",
       "  <th>const</th>  <td>-8.186e-17</td> <td>    0.008</td> <td>-1.07e-14</td> <td> 1.000</td> <td>   -0.015</td> <td>    0.015</td>\n",
       "</tr>\n",
       "<tr>\n",
       "  <th>Engine</th> <td>    0.1491</td> <td>    0.014</td> <td>   10.916</td> <td> 0.000</td> <td>    0.122</td> <td>    0.176</td>\n",
       "</tr>\n",
       "<tr>\n",
       "  <th>Power</th>  <td>    0.6775</td> <td>    0.014</td> <td>   49.610</td> <td> 0.000</td> <td>    0.651</td> <td>    0.704</td>\n",
       "</tr>\n",
       "</table>\n",
       "<table class=\"simpletable\">\n",
       "<tr>\n",
       "  <th>Omnibus:</th>       <td>188.555</td> <th>  Durbin-Watson:     </th> <td>   1.985</td> \n",
       "</tr>\n",
       "<tr>\n",
       "  <th>Prob(Omnibus):</th> <td> 0.000</td>  <th>  Jarque-Bera (JB):  </th> <td> 477.964</td> \n",
       "</tr>\n",
       "<tr>\n",
       "  <th>Skew:</th>          <td> 0.100</td>  <th>  Prob(JB):          </th> <td>1.63e-104</td>\n",
       "</tr>\n",
       "<tr>\n",
       "  <th>Kurtosis:</th>      <td> 4.366</td>  <th>  Cond. No.          </th> <td>    3.27</td> \n",
       "</tr>\n",
       "</table><br/><br/>Warnings:<br/>[1] Standard Errors assume that the covariance matrix of the errors is correctly specified."
      ],
      "text/plain": [
       "<class 'statsmodels.iolib.summary.Summary'>\n",
       "\"\"\"\n",
       "                            OLS Regression Results                            \n",
       "==============================================================================\n",
       "Dep. Variable:                  Price   R-squared:                       0.649\n",
       "Model:                            OLS   Adj. R-squared:                  0.648\n",
       "Method:                 Least Squares   F-statistic:                     5552.\n",
       "Date:                Thu, 27 Aug 2020   Prob (F-statistic):               0.00\n",
       "Time:                        20:47:14   Log-Likelihood:                -5393.1\n",
       "No. Observations:                6019   AIC:                         1.079e+04\n",
       "Df Residuals:                    6016   BIC:                         1.081e+04\n",
       "Df Model:                           2                                         \n",
       "Covariance Type:            nonrobust                                         \n",
       "==============================================================================\n",
       "                 coef    std err          t      P>|t|      [0.025      0.975]\n",
       "------------------------------------------------------------------------------\n",
       "const      -8.186e-17      0.008  -1.07e-14      1.000      -0.015       0.015\n",
       "Engine         0.1491      0.014     10.916      0.000       0.122       0.176\n",
       "Power          0.6775      0.014     49.610      0.000       0.651       0.704\n",
       "==============================================================================\n",
       "Omnibus:                      188.555   Durbin-Watson:                   1.985\n",
       "Prob(Omnibus):                  0.000   Jarque-Bera (JB):              477.964\n",
       "Skew:                           0.100   Prob(JB):                    1.63e-104\n",
       "Kurtosis:                       4.366   Cond. No.                         3.27\n",
       "==============================================================================\n",
       "\n",
       "Warnings:\n",
       "[1] Standard Errors assume that the covariance matrix of the errors is correctly specified.\n",
       "\"\"\""
      ]
     },
     "execution_count": 44,
     "metadata": {},
     "output_type": "execute_result"
    }
   ],
   "source": [
    "stand = preprocessing.StandardScaler() #z-zcore\n",
    "df6 = pd.DataFrame(stand.fit_transform(df5), columns = df5.columns)\n",
    "\n",
    "x, y = df6[[\"Engine\", \"Power\"]], df6[[\"Price\"]]\n",
    "x_train, x_test, y_train, y_test = train_test_split(x, y, test_size=0.3, random_state=42)\n",
    "\n",
    "LR = LinearRegression().fit(x_train,y_train)\n",
    "y_train_pred_LR = LR.predict(x_test)\n",
    "\n",
    "xa = sma.add_constant(x)\n",
    "reg = sma.OLS(y,xa).fit()\n",
    "reg.summary()"
   ]
  },
  {
   "cell_type": "markdown",
   "metadata": {},
   "source": [
    "Setelah ditransformasi dan diuji dengan regresi linear, R squared menunjukkan nilai 0.649 yang artinya 64,9% keragaman Price dijelaskan oleh keragaman Engine dan Power sedangkan sisanya dipengaruhi oleh keragaman lain yang tidak dimasukkan kedalam model.\n",
    "\n",
    "Namun terlihat bahwa model masih mengindikasikan tidak berdistribusi normal. Hal tersebut dapat dilihat pada Prob(JB) yang bernilai 1.63e-104 < 0.05. Hal ini memungkinkan bahwa model ini bukanlah model yang terbaik."
   ]
  },
  {
   "cell_type": "code",
   "execution_count": 45,
   "metadata": {},
   "outputs": [
    {
     "data": {
      "image/png": "[encoded data removed]",
      "text/plain": [
       "<Figure size 432x288 with 1 Axes>"
      ]
     },
     "metadata": {
      "needs_background": "light"
     },
     "output_type": "display_data"
    }
   ],
   "source": [
    "plt.scatter(x = reg.resid, y = df5.Price)\n",
    "plt.show()"
   ]
  },
  {
   "cell_type": "code",
   "execution_count": 46,
   "metadata": {},
   "outputs": [
    {
     "name": "stdout",
     "output_type": "stream",
     "text": [
      "44.477881682857564 35.50697749782654\n"
     ]
    }
   ],
   "source": [
    "error1_MAPE = sm.mean_absolute_error(y_test,y_train_pred_LR)*100\n",
    "error1_MSE = sm.mean_squared_error(y_test,y_train_pred_LR)*100\n",
    "print(error1_MAPE, error1_MSE)"
   ]
  },
  {
   "cell_type": "markdown",
   "metadata": {},
   "source": [
    "Dalam plot scatter juga menunjukkan grafik yang cenderung naik keatas yang mengindikasikan bahwa terjadi penyimpangan terhadap persamaan regresi dan tidak memenuhi asumsi regresi. Selain itu nilai errornya juga sangat besar. Dengan menggunakan metode MAPE diperoleh error sebesar 44,47% dan dengan metode MSE diperoleh error sebesar 35,5%."
   ]
  }
 ],
 "metadata": {
  "kernelspec": {
   "display_name": "Python 3",
   "language": "python",
   "name": "python3"
  },
  "language_info": {
   "codemirror_mode": {
    "name": "ipython",
    "version": 3
   },
   "file_extension": ".py",
   "mimetype": "text/x-python",
   "name": "python",
   "nbconvert_exporter": "python",
   "pygments_lexer": "ipython3",
   "version": "3.8.3"
  }
 },
 "nbformat": 4,
 "nbformat_minor": 4
}
